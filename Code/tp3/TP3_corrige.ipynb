{
 "cells": [
  {
   "cell_type": "markdown",
   "metadata": {
    "deletable": false,
    "editable": false,
    "run_control": {
     "frozen": true
    }
   },
   "source": [
    "# TP3 : Modélisation - Correction"
   ]
  },
  {
   "cell_type": "code",
   "execution_count": 2,
   "metadata": {},
   "outputs": [],
   "source": [
    "# Librairies à importer pour utiliser JuMP avec le solver GLPK\n",
    "using JuMP\n",
    "using GLPK\n",
    "\n",
    "# Définition de constantes pour le statut de résolution du problème\n",
    "const OPTIMAL = JuMP.MathOptInterface.OPTIMAL\n",
    "const INFEASIBLE = JuMP.MathOptInterface.INFEASIBLE\n",
    "const UNBOUNDED = JuMP.MathOptInterface.DUAL_INFEASIBLE;"
   ]
  },
  {
   "cell_type": "markdown",
   "metadata": {
    "deletable": false,
    "editable": false,
    "run_control": {
     "frozen": true
    }
   },
   "source": [
    "## Exercice 1 : Équipe de superhéros\n",
    "\n",
    "Pour combattre les aliens qui envahissent la terre, il faut créer une équipe de superhéros travaillant main dans la main. Malheureusement, certains superhéros sont ennemis et ne peuvent donc pas faire équipe...  Combien de superhéros peuvent aller combattre les aliens ? Il faut trouver l'équipe la plus importante possible sans ennemis... Le sort de la terre en dépend !\n",
    "\n",
    "Voici la liste des superhéros : \n",
    "   * Batman\n",
    "   * Superman\n",
    "   * Catwoman\n",
    "   * Flash\n",
    "   * Wonder woman\n",
    "   * Black Panther\n",
    "   * Captain America\n",
    "   * Daredevil\n",
    "   * Elektra\n",
    "   * Hulk\n",
    "\n",
    "Et voici maintenant la liste des ennemis jurés : \n",
    "   * Batman et Flash\n",
    "   * Catwoman et Captain America\n",
    "   * Daredevil et Elektra\n",
    "   * Hulk et Batman\n",
    "   * Catwoman et Wonder woman\n",
    "   * Black Panther et Hulk\n",
    "   * Superman et Flash\n",
    "   * Superman et Elektra\n",
    "   * Flash et Daredevil\n",
    "   * Wonder woman et Captain America\n",
    "   * Daredevil et Hulk\n",
    "   * Batman et Captain America\n",
    "   * Batman et Wonder woman\n",
    "   * Black Panther et Wonder woman\n",
    "\n",
    "\n",
    "\n",
    "**Remarque :** Il est possible de définir des variables indexées par un tableau de chaînes de caractères. Par exemple, il est possible de déclarer les variables `@variable(m,x[Superhéros])`\n",
    "\n",
    "\n",
    "\n"
   ]
  },
  {
   "cell_type": "code",
   "execution_count": 3,
   "metadata": {},
   "outputs": [],
   "source": [
    "#=\n",
    "    DONNÉES\n",
    "=#\n",
    "\n",
    "Superhéros = [\n",
    " \"Batman\",\n",
    " \"Superman\",\n",
    " \"Catwoman\",\n",
    " \"Flash\",\n",
    " \"Wonder woman\",\n",
    " \"Black Panther\",\n",
    " \"Captain America\",\n",
    " \"Daredevil\",\n",
    " \"Elektra\",\n",
    " \"Hulk\"\n",
    "]\n",
    "\n",
    "\n",
    "Ennemis = [\n",
    "  [\"Batman\", \"Flash\"],\n",
    "  [\"Catwoman\", \"Captain America\"],\n",
    "  [\"Daredevil\", \"Elektra\"],\n",
    "  [\"Hulk\", \"Batman\"],\n",
    "  [\"Catwoman\", \"Wonder woman\"],\n",
    "  [\"Black Panther\", \"Hulk\"],\n",
    "  [\"Superman\", \"Flash\"],\n",
    "  [\"Superman\", \"Elektra\"],\n",
    "  [\"Flash\", \"Daredevil\"],\n",
    "  [\"Wonder woman\", \"Captain America\"],\n",
    "  [\"Daredevil\", \"Hulk\"],\n",
    "  [\"Batman\", \"Captain America\"],\n",
    "  [\"Batman\", \"Wonder woman\"],\n",
    "  [\"Black Panther\", \"Wonder woman\"]\n",
    "];\n"
   ]
  },
  {
   "cell_type": "code",
   "execution_count": 4,
   "metadata": {
    "tags": [
     "answer"
    ]
   },
   "outputs": [
    {
     "data": {
      "text/latex": [
       "$$ \\begin{aligned}\n",
       "\\max\\quad & x_{Batman} + x_{Superman} + x_{Catwoman} + x_{Flash} + x_{Wonder woman} + x_{Black Panther} + x_{Captain America} + x_{Daredevil} + x_{Elektra} + x_{Hulk}\\\\\n",
       "\\text{Subject to} \\quad & x_{Batman} + x_{Flash} \\leq 1.0\\\\\n",
       " & x_{Catwoman} + x_{Captain America} \\leq 1.0\\\\\n",
       " & x_{Daredevil} + x_{Elektra} \\leq 1.0\\\\\n",
       " & x_{Batman} + x_{Hulk} \\leq 1.0\\\\\n",
       " & x_{Catwoman} + x_{Wonder woman} \\leq 1.0\\\\\n",
       " & x_{Black Panther} + x_{Hulk} \\leq 1.0\\\\\n",
       " & x_{Superman} + x_{Flash} \\leq 1.0\\\\\n",
       " & x_{Superman} + x_{Elektra} \\leq 1.0\\\\\n",
       " & x_{Flash} + x_{Daredevil} \\leq 1.0\\\\\n",
       " & x_{Wonder woman} + x_{Captain America} \\leq 1.0\\\\\n",
       " & x_{Daredevil} + x_{Hulk} \\leq 1.0\\\\\n",
       " & x_{Batman} + x_{Captain America} \\leq 1.0\\\\\n",
       " & x_{Batman} + x_{Wonder woman} \\leq 1.0\\\\\n",
       " & x_{Wonder woman} + x_{Black Panther} \\leq 1.0\\\\\n",
       " & x_{Batman} \\in \\{0, 1\\}\\\\\n",
       " & x_{Superman} \\in \\{0, 1\\}\\\\\n",
       " & x_{Catwoman} \\in \\{0, 1\\}\\\\\n",
       " & x_{Flash} \\in \\{0, 1\\}\\\\\n",
       " & x_{Wonder woman} \\in \\{0, 1\\}\\\\\n",
       " & x_{Black Panther} \\in \\{0, 1\\}\\\\\n",
       " & x_{Captain America} \\in \\{0, 1\\}\\\\\n",
       " & x_{Daredevil} \\in \\{0, 1\\}\\\\\n",
       " & x_{Elektra} \\in \\{0, 1\\}\\\\\n",
       " & x_{Hulk} \\in \\{0, 1\\}\\\\\n",
       "\\end{aligned} $$"
      ]
     },
     "metadata": {},
     "output_type": "display_data"
    },
    {
     "name": "stdout",
     "output_type": "stream",
     "text": [
      "Nombre de superhéros pour combattre les aliens : 5\n",
      "Voici la liste des superhéros :\n",
      "Batman\n",
      "Superman\n",
      "Catwoman\n",
      "Black Panther\n",
      "Daredevil\n"
     ]
    }
   ],
   "source": [
    "##################\n",
    "#   Correction   #\n",
    "##################\n",
    "\n",
    "\n",
    "function foundBestTeam(Superhéros, Ennemis)\n",
    "\n",
    "    superteam = Model(GLPK.Optimizer)\n",
    "\n",
    "    # Une varible binaire par super héros\n",
    "    @variable(superteam,x[Superhéros], Bin)\n",
    "\n",
    "    #La fonction objectif : On cherche à minimiser le nombre de rouleaux decoupes.\n",
    "    @objective(superteam, Max, sum(x[s] for s in Superhéros))\n",
    "\n",
    "    # une contrainte par paire d'ennemis\n",
    "    for en in Ennemis\n",
    "        @constraint(superteam, x[en[1]] + x[en[2]] <= 1)\n",
    "    end\n",
    "        \n",
    "    print(superteam)\n",
    "    JuMP.optimize!(superteam)\n",
    "    \n",
    "    println(\"Nombre de superhéros pour combattre les aliens : \", round(Int,objective_value(superteam)))\n",
    "        \n",
    "    #Affichage du résultat\n",
    "    println(\"Voici la liste des superhéros :\")\n",
    "    for h in Superhéros\n",
    "        if JuMP.value(x[h]) == 1\n",
    "            println(h)\n",
    "        end\n",
    "    end\n",
    "end\n",
    "\n",
    "foundBestTeam(Superhéros, Ennemis)"
   ]
  },
  {
   "cell_type": "markdown",
   "metadata": {
    "run_control": {
     "frozen": true
    }
   },
   "source": [
    "## Exercice 2 : Pause sudoku\n",
    "\n",
    "\n",
    "Le but de cet exercice est de résoudre la grille de sudoku ci-dessous **à l'aide de la programmation linéaire en nombres entiers !**\n",
    "\n",
    "\n",
    "**Remarque :** On utilisera comme variable `x[i,j,k]` qui vaut 1 si la case (i,j) contient la valeur k, et 0 sinon."
   ]
  },
  {
   "cell_type": "code",
   "execution_count": 16,
   "metadata": {},
   "outputs": [],
   "source": [
    "#=\n",
    "    DONNÉES\n",
    "=#\n",
    "\n",
    "Grille = [\n",
    "  5 3 0 0 7 0 0 0 0;\n",
    "  6 0 0 1 9 5 0 0 0;\n",
    "  0 9 8 0 0 0 0 6 0;\n",
    "  8 0 0 0 6 0 0 0 3;\n",
    "  4 0 0 8 0 3 0 0 1;\n",
    "  7 0 0 0 2 0 0 0 6;\n",
    "  0 6 0 0 0 0 2 8 0;\n",
    "  0 0 0 4 1 9 0 0 5;\n",
    "  0 0 0 0 8 0 0 7 9\n",
    "];"
   ]
  },
  {
   "cell_type": "code",
   "execution_count": 14,
   "metadata": {
    "tags": [
     "answer"
    ]
   },
   "outputs": [
    {
     "name": "stdout",
     "output_type": "stream",
     "text": [
      "Grille résolue !\n",
      "+-------+-------+-------+\n",
      "| 5 3 4 | 6 7 8 | 9 1 2 | \n",
      "| 6 7 2 | 1 9 5 | 3 4 8 | \n",
      "| 1 9 8 | 3 4 2 | 5 6 7 | \n",
      "+-------+-------+-------+\n",
      "| 8 5 9 | 7 6 1 | 4 2 3 | \n",
      "| 4 2 6 | 8 5 3 | 7 9 1 | \n",
      "| 7 1 3 | 9 2 4 | 8 5 6 | \n",
      "+-------+-------+-------+\n",
      "| 9 6 1 | 5 3 7 | 2 8 4 | \n",
      "| 2 8 7 | 4 1 9 | 6 3 5 | \n",
      "| 3 4 5 | 2 8 6 | 1 7 9 | \n",
      "+-------+-------+-------+\n"
     ]
    }
   ],
   "source": [
    "##################\n",
    "#   Correction   #\n",
    "##################\n",
    "\n",
    "\n",
    "function solve_sudoku(grille)\n",
    "    \n",
    "    sudoku = Model(GLPK.Optimizer)\n",
    "\n",
    "    # x[i,j,k] vaut 1 si la valeur k est dans la case (i,j)\n",
    "    @variable(sudoku,x[1:9,1:9,1:9], Bin)\n",
    "\n",
    "    #La fonction objectif : il n'y en pas besoin car on cherche simplement une solution réalisable\n",
    "    \n",
    "    for i in 1:9, j in 1:9\n",
    "        @constraint(sudoku, sum(x[i,j,k] for k in 1:9) == 1)\n",
    "    end\n",
    "    \n",
    "    # Pour chaque valeur\n",
    "    for k in 1:9\n",
    "        \n",
    "        # Pour chaque colonne\n",
    "        for i in 1:9\n",
    "            @constraint(sudoku, sum(x[i,j,k] for j in 1:9) == 1)\n",
    "        end\n",
    "        \n",
    "        # Pour chaque ligne\n",
    "        for j in 1:9\n",
    "            @constraint(sudoku, sum(x[i,j,k] for i in 1:9) == 1)\n",
    "        end\n",
    "        \n",
    "        # Pour chaque carré \n",
    "        for lc in 0:2, cc in 0:2\n",
    "            @constraint(sudoku, sum(x[3 * lc + i, 3 * cc + j,k] for i in 1:3, j in 1:3 ) == 1)\n",
    "        end\n",
    "    end\n",
    "    \n",
    "    # Valeurs initiales\n",
    "    for i in 1:9, j in 1:9\n",
    "        if grille[i,j] != 0\n",
    "            @constraint(sudoku, x[i,j,grille[i,j]] == 1)\n",
    "        end\n",
    "    end\n",
    "    \n",
    "    #println(sudoku)\n",
    "\n",
    "    \n",
    "    JuMP.optimize!(sudoku)\n",
    "    status = termination_status(sudoku)\n",
    "    \n",
    "\n",
    "    if status == INFEASIBLE\n",
    "        println(\"Le problème n'est pas réalisable\")\n",
    "    else\n",
    "        println(\"Grille résolue !\")\n",
    "        sol = zeros(Int, 9, 9)\n",
    "        for i in 1:9, j in 1:9, k in 1:9\n",
    "            if JuMP.value(x[i,j,k]) ≈ 1.\n",
    "                sol[i, j] = k\n",
    "            end\n",
    "        end\n",
    "        \n",
    "        #= Affichage de la solution\n",
    "        for i in 1:9\n",
    "            for j in 1:9\n",
    "                print(sol[i, j], \" \")\n",
    "            end\n",
    "            println(\"\")\n",
    "        end\n",
    "        =#\n",
    "        \n",
    "        #Affichage évolué       \n",
    "        A = replace(i -> i == 0 ? \".\" : string(i), Matrix{Any}(sol))\n",
    "        nn = size(A)[1]\n",
    "        n = Int(sqrt(nn))\n",
    "\n",
    "        digitsLength = length(string(nn))\n",
    "        A = lpad.(A, digitsLength, \" \") # for working properly with n > 4\n",
    "\n",
    "\n",
    "        header = \"+\" * prod([\"-\"^(digitsLength * n + n + 1) * \"+\" for _ ∈ 1:n])\n",
    "        println(header)\n",
    "\n",
    "        # print every line \n",
    "        for i ∈ 1:nn\n",
    "            to_print = \"\"\n",
    "            for j ∈ 1:nn\n",
    "                if j == 1\n",
    "                    to_print *= \"| \" * A[i, j] * \" \"\n",
    "                else\n",
    "                    to_print *= A[i, j] * \" \"\n",
    "                end\n",
    "                if j % n == 0\n",
    "                    to_print *= \"| \"\n",
    "                end\n",
    "            end\n",
    "            println(to_print)\n",
    "            if i % n == 0\n",
    "                println(header)\n",
    "            end\n",
    "        end\n",
    "        \n",
    "    end\n",
    "end\n",
    "        \n",
    "solve_sudoku(Grille)"
   ]
  },
  {
   "cell_type": "code",
   "execution_count": null,
   "metadata": {},
   "outputs": [],
   "source": []
  }
 ],
 "metadata": {
  "@webio": {
   "lastCommId": "9650aaa7d290417b8fc60922f8136662",
   "lastKernelId": "ce255e23-aafb-4234-8fcb-30d1d3b43de7"
  },
  "celltoolbar": "Éditer les Méta-Données",
  "kernelspec": {
   "display_name": "Julia 1.8.2",
   "language": "julia",
   "name": "julia-1.8"
  },
  "language_info": {
   "file_extension": ".jl",
   "mimetype": "application/julia",
   "name": "julia",
   "version": "1.8.2"
  },
  "toc": {
   "base_numbering": 1,
   "nav_menu": {},
   "number_sections": true,
   "sideBar": true,
   "skip_h1_title": true,
   "title_cell": "Table des matières",
   "title_sidebar": "Table des matières",
   "toc_cell": false,
   "toc_position": {},
   "toc_section_display": true,
   "toc_window_display": false
  },
  "varInspector": {
   "cols": {
    "lenName": 16,
    "lenType": 16,
    "lenVar": 40
   },
   "kernels_config": {
    "python": {
     "delete_cmd_postfix": "",
     "delete_cmd_prefix": "del ",
     "library": "var_list.py",
     "varRefreshCmd": "print(var_dic_list())"
    },
    "r": {
     "delete_cmd_postfix": ") ",
     "delete_cmd_prefix": "rm(",
     "library": "var_list.r",
     "varRefreshCmd": "cat(var_dic_list()) "
    }
   },
   "types_to_exclude": [
    "module",
    "function",
    "builtin_function_or_method",
    "instance",
    "_Feature"
   ],
   "window_display": false
  }
 },
 "nbformat": 4,
 "nbformat_minor": 4
}
