{
 "cells": [
  {
   "cell_type": "markdown",
   "metadata": {
    "run_control": {
     "frozen": true
    }
   },
   "source": [
    "# TP3 : Super-héros et Sudoku"
   ]
  },
  {
   "cell_type": "code",
   "execution_count": 1,
   "metadata": {},
   "outputs": [],
   "source": [
    "# Librairies à importer pour utiliser JuMP avec le solver GLPK\n",
    "using JuMP\n",
    "using GLPK\n",
    "\n",
    "# Définition de constantes pour le statut de résolution du problème\n",
    "const OPTIMAL = JuMP.MathOptInterface.OPTIMAL\n",
    "const INFEASIBLE = JuMP.MathOptInterface.INFEASIBLE\n",
    "const UNBOUNDED = JuMP.MathOptInterface.DUAL_INFEASIBLE;"
   ]
  },
  {
   "cell_type": "markdown",
   "metadata": {
    "deletable": false,
    "editable": false,
    "run_control": {
     "frozen": true
    }
   },
   "source": [
    "## Exercice 1 : Équipe de superhéros\n",
    "\n",
    "Pour combattre les aliens qui envahissent la terre, il faut créer une équipe de superhéros travaillant main dans la main. Malheureusement, certains superhéros sont ennemis et ne peuvent donc pas faire équipe...  Combien de superhéros peuvent aller combattre les aliens ? Il faut trouver l'équipe la plus importante possible sans ennemis... Le sort de la terre en dépend !\n",
    "\n",
    "Voici la liste des superhéros : \n",
    "   * Batman\n",
    "   * Superman\n",
    "   * Catwoman\n",
    "   * Flash\n",
    "   * Wonder woman\n",
    "   * Black Panther\n",
    "   * Captain America\n",
    "   * Daredevil\n",
    "   * Elektra\n",
    "   * Hulk\n",
    "\n",
    "Et voici maintenant la liste des ennemis jurés : \n",
    "   * Batman et Flash\n",
    "   * Catwoman et Captain America\n",
    "   * Daredevil et Elektra\n",
    "   * Hulk et Batman\n",
    "   * Catwoman et Wonder woman\n",
    "   * Black Panther et Hulk\n",
    "   * Superman et Flash\n",
    "   * Superman et Elektra\n",
    "   * Flash et Daredevil\n",
    "   * Wonder woman et Captain America\n",
    "   * Daredevil et Hulk\n",
    "   * Batman et Captain America\n",
    "   * Batman et Wonder woman\n",
    "   * Black Panther et Wonder woman\n",
    "\n",
    "\n",
    "\n",
    "**Remarque :** Il est possible de définir des variables indexées par un tableau de chaînes de caractères. Par exemple, il est possible de déclarer les variables `@variable(m,x[Superhéros])`\n",
    "\n",
    "\n",
    "\n"
   ]
  },
  {
   "cell_type": "code",
   "execution_count": 2,
   "metadata": {},
   "outputs": [],
   "source": [
    "#=\n",
    "    DONNÉES\n",
    "=#\n",
    "\n",
    "Superhéros = [\n",
    " \"Batman\",\n",
    " \"Superman\",\n",
    " \"Catwoman\",\n",
    " \"Flash\",\n",
    " \"Wonder woman\",\n",
    " \"Black Panther\",\n",
    " \"Captain America\",\n",
    " \"Daredevil\",\n",
    " \"Elektra\",\n",
    " \"Hulk\"\n",
    "]\n",
    "\n",
    "\n",
    "Ennemis = [\n",
    "  [\"Batman\", \"Flash\"],\n",
    "  [\"Catwoman\", \"Captain America\"],\n",
    "  [\"Daredevil\", \"Elektra\"],\n",
    "  [\"Hulk\", \"Batman\"],\n",
    "  [\"Catwoman\", \"Wonder woman\"],\n",
    "  [\"Black Panther\", \"Hulk\"],\n",
    "  [\"Superman\", \"Flash\"],\n",
    "  [\"Superman\", \"Elektra\"],\n",
    "  [\"Flash\", \"Daredevil\"],\n",
    "  [\"Wonder woman\", \"Captain America\"],\n",
    "  [\"Daredevil\", \"Hulk\"],\n",
    "  [\"Batman\", \"Captain America\"],\n",
    "  [\"Batman\", \"Wonder woman\"],\n",
    "  [\"Black Panther\", \"Wonder woman\"]\n",
    "];"
   ]
  },
  {
   "cell_type": "code",
   "execution_count": 17,
   "metadata": {
    "tags": [
     "answer"
    ]
   },
   "outputs": [
    {
     "data": {
      "text/plain": [
       "find_superhero (generic function with 1 method)"
      ]
     },
     "execution_count": 17,
     "metadata": {},
     "output_type": "execute_result"
    }
   ],
   "source": [
    "############################## \n",
    "#   Saisir votre code ici.   #\n",
    "##############################\n",
    "function find_superhero()\n",
    "    m = Model(GLPK.Optimizer)\n",
    "\n",
    "    @variable(m,x[Superhéros], Bin)\n",
    "\n",
    "    @objective(m, Max, sum(x[super] for super in Superhéros))\n",
    "\n",
    "    for truc in Ennemis\n",
    "        @constraint(m, x[truc[1]]+x[truc[2]]<=1)\n",
    "    end\n",
    "\n",
    "    print(m)\n",
    "\n",
    "    JuMP.optimize!(m)\n",
    "\n",
    "    println(\"Heros can save the world is : \", objective_value(m))\n",
    "\n",
    "    #Affichage du résultat\n",
    "    println(\"List of the equipe\")\n",
    "    count = 0\n",
    "    for super in Superhéros\n",
    "        if JuMP.value(x[super])==1\n",
    "            count = count + 1\n",
    "            println(\"Hero $count : $super\")\n",
    "        end\n",
    "    end\n",
    "end"
   ]
  },
  {
   "cell_type": "code",
   "execution_count": 18,
   "metadata": {},
   "outputs": [
    {
     "data": {
      "text/latex": [
       "$$ \\begin{aligned}\n",
       "\\max\\quad & x_{Batman} + x_{Superman} + x_{Catwoman} + x_{Flash} + x_{Wonder woman} + x_{Black Panther} + x_{Captain America} + x_{Daredevil} + x_{Elektra} + x_{Hulk}\\\\\n",
       "\\text{Subject to} \\quad & x_{Batman} + x_{Flash} \\leq 1.0\\\\\n",
       " & x_{Catwoman} + x_{Captain America} \\leq 1.0\\\\\n",
       " & x_{Daredevil} + x_{Elektra} \\leq 1.0\\\\\n",
       " & x_{Batman} + x_{Hulk} \\leq 1.0\\\\\n",
       " & x_{Catwoman} + x_{Wonder woman} \\leq 1.0\\\\\n",
       " & x_{Black Panther} + x_{Hulk} \\leq 1.0\\\\\n",
       " & x_{Superman} + x_{Flash} \\leq 1.0\\\\\n",
       " & x_{Superman} + x_{Elektra} \\leq 1.0\\\\\n",
       " & x_{Flash} + x_{Daredevil} \\leq 1.0\\\\\n",
       " & x_{Wonder woman} + x_{Captain America} \\leq 1.0\\\\\n",
       " & x_{Daredevil} + x_{Hulk} \\leq 1.0\\\\\n",
       " & x_{Batman} + x_{Captain America} \\leq 1.0\\\\\n",
       " & x_{Batman} + x_{Wonder woman} \\leq 1.0\\\\\n",
       " & x_{Wonder woman} + x_{Black Panther} \\leq 1.0\\\\\n",
       " & x_{Batman} \\in \\{0, 1\\}\\\\\n",
       " & x_{Superman} \\in \\{0, 1\\}\\\\\n",
       " & x_{Catwoman} \\in \\{0, 1\\}\\\\\n",
       " & x_{Flash} \\in \\{0, 1\\}\\\\\n",
       " & x_{Wonder woman} \\in \\{0, 1\\}\\\\\n",
       " & x_{Black Panther} \\in \\{0, 1\\}\\\\\n",
       " & x_{Captain America} \\in \\{0, 1\\}\\\\\n",
       " & x_{Daredevil} \\in \\{0, 1\\}\\\\\n",
       " & x_{Elektra} \\in \\{0, 1\\}\\\\\n",
       " & x_{Hulk} \\in \\{0, 1\\}\\\\\n",
       "\\end{aligned} $$"
      ]
     },
     "metadata": {},
     "output_type": "display_data"
    },
    {
     "name": "stdout",
     "output_type": "stream",
     "text": [
      "Heros can save the world is : 5.0\n",
      "List of the equipe\n",
      "Hero 1 : Batman\n",
      "Hero 2 : Superman\n",
      "Hero 3 : Catwoman\n",
      "Hero 4 : Black Panther\n",
      "Hero 5 : Daredevil\n"
     ]
    }
   ],
   "source": [
    "find_superhero()"
   ]
  },
  {
   "cell_type": "markdown",
   "metadata": {
    "run_control": {
     "frozen": true
    }
   },
   "source": [
    "## Exercice 2 : Pause sudoku\n",
    "\n",
    "Le sudoku est une grille carrée de taille $9\\times 9$ divisée en 9 régions carrées de 9 cases. On doit remplir chaque case avec un chiffre de 1 à 9 en respectant la régle suivante : dans chaque ligne, chaque colonne, chaque région, les chiffres de 1 à 9 apparaissent une et une seule fois. Certaines cases sont déjà préremplies.\n",
    "\n",
    "Le but de cet exercice est de résoudre la grille de sudoku ci-dessous **à l'aide de la programmation linéaire en nombres entiers !**\n",
    "\n",
    "Formuler le problème du sudoku comme un programme linéaireen nombres entiers, et résoudre la grille suivante (les zeros représentent les cases à remplir).\n",
    "\n",
    "**Indication :** On utilisera comme variable `x[i,j,k]` qui vaut 1 si la case (i,j) contient la valeur k, et 0 sinon."
   ]
  },
  {
   "cell_type": "code",
   "execution_count": 155,
   "metadata": {},
   "outputs": [],
   "source": [
    "#=\n",
    "    DONNÉES\n",
    "=#\n",
    "\n",
    "# les zeros représentent les cases non remplies\n",
    "Grille = [\n",
    "  5 3 0 0 7 0 0 0 0;\n",
    "  6 0 0 1 9 5 0 0 0;\n",
    "  0 9 8 0 0 0 0 6 0;\n",
    "  8 0 0 0 6 0 0 0 3;\n",
    "  4 0 0 8 0 3 0 0 1;\n",
    "  7 0 0 0 2 0 0 0 6;\n",
    "  0 6 0 0 0 0 2 8 0;\n",
    "  0 0 0 4 1 9 0 0 5;\n",
    "  0 0 0 0 8 0 0 7 9\n",
    "];\n",
    "# start from 1"
   ]
  },
  {
   "cell_type": "code",
   "execution_count": 160,
   "metadata": {},
   "outputs": [
    {
     "data": {
      "text/plain": [
       "solveSudoku (generic function with 1 method)"
      ]
     },
     "execution_count": 160,
     "metadata": {},
     "output_type": "execute_result"
    }
   ],
   "source": [
    "############################## \n",
    "#   Saisir votre code ici.   #\n",
    "##############################\n",
    "\n",
    "function solveSudoku(Grille)\n",
    "    sudoku = Model(GLPK.Optimizer)\n",
    "    @variable(sudoku, x[1:9,1:9, 1:9], Bin)\n",
    "\n",
    "    # only 1 valeur k in each case => = 1, the rest = 0\n",
    "    for i in 1:9 #col\n",
    "        for j in 1:9 #row\n",
    "            @constraint(sudoku, sum(x[i,j,k] for k in 1:9)==1)\n",
    "        end\n",
    "    end\n",
    "\n",
    "    # number show in row can be only 1\n",
    "    # vd: row 1 have only one number 3\n",
    "    for i in 1:9\n",
    "        for k in 1:9\n",
    "            @constraint(sudoku, sum(x[i,j,k] for j in 1:9)==1)\n",
    "        end\n",
    "    end\n",
    "\n",
    "    # number show in col can be only 1\n",
    "    # vd: row 1 have only one number 3\n",
    "    for j in 1:9\n",
    "        for k in 1:9\n",
    "            @constraint(sudoku, sum(x[i,j,k] for i in 1:9)==1)\n",
    "        end\n",
    "    end\n",
    "\n",
    "    # loop, take left part 0 1 2\n",
    "    for i in 0:2, j in 0:2\n",
    "        for k in 1:9\n",
    "            @constraint(sudoku, sum(x[3*i+1:3*i+3,3*j+1:3*j+3,k])==1)\n",
    "        end\n",
    "    end\n",
    "\n",
    "    # remplir table\n",
    "    for i in 1:9, j in 1:9\n",
    "        if Grille[i,j]!=0\n",
    "           @constraint(sudoku, x[i, j, Grille[i,j]] == 1) \n",
    "        end\n",
    "    end\n",
    "\n",
    "    #print(m)\n",
    "\n",
    "    JuMP.optimize!(sudoku)\n",
    "    status = termination_status(sudoku)\n",
    "    println(\"Status is : \", status)\n",
    "\n",
    "    # affichage resultat\n",
    "\n",
    "    Solution = Grille\n",
    "    #print(JuMP.value(x[1,1,3]))\n",
    "    for i in 1:9\n",
    "        for j in 1:9\n",
    "           if Solution[i,j]==0\n",
    "                for k in 1:9\n",
    "                    #println(sum(JuMP.value(x[i,j,k]*k for k in 1:9)))\n",
    "                    Solution[i,j] = Solution[i,j] + JuMP.value(x[i,j,k]*k)\n",
    "                end\n",
    "            end\n",
    "        end\n",
    "    end\n",
    "\n",
    "    # show more pretty\n",
    "    println()\n",
    "    for i in 1:9\n",
    "        for j in 1:9\n",
    "            print(Solution[i,j], \" \")\n",
    "        end\n",
    "        println()\n",
    "    end\n",
    "end\n"
   ]
  },
  {
   "cell_type": "code",
   "execution_count": 161,
   "metadata": {},
   "outputs": [
    {
     "name": "stdout",
     "output_type": "stream",
     "text": [
      "Status is : OPTIMAL\n",
      "\n",
      "5 3 4 6 7 8 9 1 2 \n",
      "6 7 2 1 9 5 3 4 8 \n",
      "1 9 8 3 4 2 5 6 7 \n",
      "8 5 9 7 6 1 4 2 3 \n",
      "4 2 6 8 5 3 7 9 1 \n",
      "7 1 3 9 2 4 8 5 6 \n",
      "9 6 1 5 3 7 2 8 4 \n",
      "2 8 7 4 1 9 6 3 5 \n",
      "3 4 5 2 8 6 1 7 9 \n"
     ]
    }
   ],
   "source": [
    "solveSudoku(Grille)"
   ]
  },
  {
   "cell_type": "code",
   "execution_count": null,
   "metadata": {},
   "outputs": [],
   "source": []
  }
 ],
 "metadata": {
  "@webio": {
   "lastCommId": "b1a889be45a24cbc8916d0eb444b98a6",
   "lastKernelId": "80a18d9b-e0b6-4f5b-a8fd-5998dd4aca5d"
  },
  "celltoolbar": "Éditer les Méta-Données",
  "kernelspec": {
   "display_name": "Julia 1.8.2",
   "language": "julia",
   "name": "julia-1.8"
  },
  "language_info": {
   "file_extension": ".jl",
   "mimetype": "application/julia",
   "name": "julia",
   "version": "1.8.2"
  },
  "toc": {
   "base_numbering": 1,
   "nav_menu": {},
   "number_sections": true,
   "sideBar": true,
   "skip_h1_title": true,
   "title_cell": "Table des matières",
   "title_sidebar": "Table des matières",
   "toc_cell": false,
   "toc_position": {},
   "toc_section_display": true,
   "toc_window_display": false
  },
  "varInspector": {
   "cols": {
    "lenName": 16,
    "lenType": 16,
    "lenVar": 40
   },
   "kernels_config": {
    "python": {
     "delete_cmd_postfix": "",
     "delete_cmd_prefix": "del ",
     "library": "var_list.py",
     "varRefreshCmd": "print(var_dic_list())"
    },
    "r": {
     "delete_cmd_postfix": ") ",
     "delete_cmd_prefix": "rm(",
     "library": "var_list.r",
     "varRefreshCmd": "cat(var_dic_list()) "
    }
   },
   "types_to_exclude": [
    "module",
    "function",
    "builtin_function_or_method",
    "instance",
    "_Feature"
   ],
   "window_display": false
  }
 },
 "nbformat": 4,
 "nbformat_minor": 4
}
