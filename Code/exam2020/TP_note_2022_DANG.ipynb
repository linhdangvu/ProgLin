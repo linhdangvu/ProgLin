{
 "cells": [
  {
   "cell_type": "markdown",
   "metadata": {},
   "source": [
    "# TP Noté"
   ]
  },
  {
   "cell_type": "code",
   "execution_count": 35,
   "metadata": {},
   "outputs": [],
   "source": [
    "#Nom/prénom : Dang/Vu My Linh"
   ]
  },
  {
   "cell_type": "markdown",
   "metadata": {},
   "source": [
    "Pour ce TP, vous devez rendre votre jupyter notebook, en précisant votre nom, à envoyer à grappe@lipn.fr avant 16h. \n",
    "\n",
    "**Enregistrez bien votre fichier avant de l'envoyer.**\n",
    "\n",
    "**Commentez bien votre cote :** Décrivez précisément vos variables/contraintes/fonction objectif en commentaire."
   ]
  },
  {
   "cell_type": "code",
   "execution_count": 1,
   "metadata": {},
   "outputs": [],
   "source": [
    "# Librairies à importer pour utiliser JuMP avec le solver GLPK\n",
    "using JuMP\n",
    "using GLPK\n",
    "\n",
    "# Définition de constantes pour le statut de résolution du problème\n",
    "const OPTIMAL = JuMP.MathOptInterface.OPTIMAL\n",
    "const INFEASIBLE = JuMP.MathOptInterface.INFEASIBLE\n",
    "const UNBOUNDED = JuMP.MathOptInterface.DUAL_INFEASIBLE;"
   ]
  },
  {
   "cell_type": "markdown",
   "metadata": {},
   "source": [
    "La firme RoLiX fabrique trois types de produits à base de plastique : bouteilles, sachets, et gants. Chaque produit nécessite une machine de type différent. La firme dispose de ces machines jusqu'à fin 2022.\n",
    "\n",
    "Le tableau suivant donne pour chaque produit son coût de production unitaire, son prix de vente, ainsi que la quantité de matière première et de travail que nécessite la production d'une unité de chacun de ces trois biens.\n",
    "\n",
    "Produit | bouteilles | sachets | gants\n",
    "-----|----|----|----\n",
    "Coût de production unitaire (euros) | 6 | 4 | 8\n",
    "Prix de vente unitaire (euros) | 12 | 8 | 15\n",
    "Matières Premières (plastique en kg) | 4 | 3 | 4\n",
    "Heures de travail | 3 | 2 | 6\n",
    "\n",
    "Chaque semaine, le nombre d'heures de travail disponibles est de 150h et la quantité de matières premières (le plastique) de 160kg.\n",
    "\n",
    "\n",
    "L'objectif est de déterminer le plan de production conduisant au revenu hebdomadaire maximal. "
   ]
  },
  {
   "cell_type": "markdown",
   "metadata": {},
   "source": [
    "## Question 1\n",
    "\n",
    "Donner la formulation PLNE pour résoudre le problème, en : \n",
    "\n",
    "* Proposant un choix de variables pour représenter les décisions à prendre dans ce problème. Pour chaque groupe de variables, indiquer ce qu'elles signifient, ainsi que le type, bornes inférieures et supérieures, ensembles d'appartenance des indices.\n",
    "\n",
    "* Expliquant à la fois la fonction objective et chacune des (familles de) contraintes.\n",
    "\n",
    "Utiliser cette formulation pour déterminer le plan de production donnant un revenu hebdomadaire maximal (Veiller à avoir un affichage de la solution compréhensible par le PDG de RoLiX qui n'y connait rien en PLNE)."
   ]
  },
  {
   "cell_type": "code",
   "execution_count": 2,
   "metadata": {},
   "outputs": [
    {
     "name": "stdout",
     "output_type": "stream",
     "text": [
      "Revenu hebdomadaire maximal = 250.0\n",
      "Solution optimale :\n",
      "\t Nombre de bouteilles: 30.0\n",
      "\t Nombre de sachets: 0.0\n",
      "\t Nombre de gants: 10.0\n"
     ]
    }
   ],
   "source": [
    "###############################\n",
    "#   Saisir votre code ici.    #\n",
    "###############################\n",
    "\n",
    "# crée un model\n",
    "m = Model(GLPK.Optimizer)\n",
    "\n",
    "# crée des variables B, S, G\n",
    "@variable(m, B >= 0, Int) # B - nombres des bouteilles\n",
    "@variable(m, S >= 0, Int) # S - nombres des sachets\n",
    "@variable(m, G >= 0, Int) # G - nombres des gants\n",
    "\n",
    "# max revenu hebdomadaire = prix de vente - cout de production\n",
    "# prix de vente = (12*B + 8*S + 15*G)\n",
    "# cout de production = (6*B + 4*S + 8*G)\n",
    "@objective(m, Max, (12*B + 8*S + 15*G) - (6*B + 4*S + 8*G)) \n",
    "\n",
    "# constraint heures de travail hedbomadaire = 150\n",
    "@constraint(m, 3*B + 2*S + 6*G <= 150)\n",
    "\n",
    "#constraint quantité de matiere plastique = 160\n",
    "@constraint(m, 4*B + 3*S + 4*G <= 160)\n",
    "\n",
    "# Pour conclusion\n",
    "optimize!(m)\n",
    "\n",
    "status = termination_status(m)\n",
    "\n",
    "if status == INFEASIBLE\n",
    "    println(\"Le problème n'est pas réalisable\")\n",
    "elseif status == UNBOUNDED\n",
    "    println(\"Le problème est non borné\")\n",
    "elseif status == OPTIMAL\n",
    "    println(\"Revenu hebdomadaire maximal = \", JuMP.objective_value(m))\n",
    "    println(\"Solution optimale :\")\n",
    "    println(\"\\t Nombre de bouteilles: \", JuMP.value(B))\n",
    "    println(\"\\t Nombre de sachets: \", JuMP.value(S))\n",
    "    println(\"\\t Nombre de gants: \", JuMP.value(G))\n",
    "else\n",
    "    println(\"Problème lors de la résolution\")\n",
    "end"
   ]
  },
  {
   "cell_type": "markdown",
   "metadata": {},
   "source": [
    "## Question 2\n",
    "\n",
    "#### Question 2.1\n",
    "Implémenter une formulation générique, prenant comme paramètres :\n",
    "* $n$ : le nombre de types d'objets à fabriquer\n",
    "* $C$ : un tableau contenant le coût de production unitaire de chaque objet\n",
    "* $V$ : un tableau contenant le prix de vente unitaire de chaque objet \n",
    "* $P$ : un tableau contenant la quantité de matière première nécessaire à la fabrication de chaque objet\n",
    "* $H$ : un tableau contenant le nombre d'heures de travail nécessaires à la fabrication de chaque objet\n",
    "* $Q$ : la quantité de plastique disponible par semaine\n",
    "* $T$ : le nombre d'heures de travail disponible par semaine\n",
    "\n",
    "Dans chaque tableau (de taille $n$), on supposera que l'entrée d'indice $i$ est la donnée correspondant à l'objet de type $i$.\n",
    "\n",
    "Donner un affichage clair (en Julia) de la solution : indiquer pour chaque objet quel nombre en est fabriqué."
   ]
  },
  {
   "cell_type": "code",
   "execution_count": 3,
   "metadata": {},
   "outputs": [
    {
     "data": {
      "text/plain": [
       "formulation_generique (generic function with 1 method)"
      ]
     },
     "execution_count": 3,
     "metadata": {},
     "output_type": "execute_result"
    }
   ],
   "source": [
    "###############################\n",
    "#   Saisir votre code ici.    #\n",
    "###############################\n",
    "\n",
    "function formulation_generique(n, C, V, P, H, Q, T)\n",
    "\n",
    "    # crée des longueurs des tables\n",
    "    lenC = length(C) # longeurs de table des couts\n",
    "    lenP = length(P) # longeurs de table des quantite de matiere plastique\n",
    "    lenV = length(V) # longeurs de table des prix de vente\n",
    "    lenH = length(H) # # longeurs de table des heures de travail nécessaires\n",
    "    \n",
    "    # crée un model\n",
    "    m = Model(GLPK.Optimizer)\n",
    "    \n",
    "    # crée des variables\n",
    "    @variable(m, x[1:n]>=0, Int) #x[1:n] - nombre des types d'objets à fabriquer\n",
    "    \n",
    "    #revenue hebdo max = prix de vente - cout de production\n",
    "    @objective(m, Max, sum(V[i]*x[i] for i in 1:lenV) - sum(C[i]*x[i] for i in 1:lenC))\n",
    "    \n",
    "    # constraint for quantite plastique Q de P\n",
    "    @constraint(m, sum(P[i]*x[i] for i in 1:lenP) <= Q)\n",
    "    \n",
    "    # constraint for heures travail T\n",
    "    @constraint(m, sum(H[i]*x[i] for i in 1:lenH) <= T)\n",
    "    \n",
    "    print(m)\n",
    "    \n",
    "    # Pour concluire\n",
    "    optimize!(m)\n",
    "\n",
    "    status = termination_status(m)\n",
    "\n",
    "    if status == INFEASIBLE\n",
    "        println(\"Le problème n'est pas réalisable\")\n",
    "    elseif status == UNBOUNDED\n",
    "        println(\"Le problème est non borné\")\n",
    "    elseif status == OPTIMAL\n",
    "        println(\"Revenu hebdomadaire maximal = \", JuMP.objective_value(m))\n",
    "        println(\"Solution optimale :\")\n",
    "        for i in 1:n\n",
    "            println(\"\\t Nombre de produit $i est fabriqué : \", JuMP.value(x[i])) \n",
    "        end\n",
    "    else\n",
    "        println(\"Problème lors de la résolution\")\n",
    "    end\n",
    "end"
   ]
  },
  {
   "cell_type": "markdown",
   "metadata": {},
   "source": [
    "#### Question 2.2\n",
    "Retrouver les résultats de la question 1 en utilisant votre formulation."
   ]
  },
  {
   "cell_type": "code",
   "execution_count": 4,
   "metadata": {},
   "outputs": [
    {
     "data": {
      "text/latex": [
       "$$ \\begin{aligned}\n",
       "\\max\\quad & 6 x_{1} + 4 x_{2} + 7 x_{3}\\\\\n",
       "\\text{Subject to} \\quad & 4 x_{1} + 3 x_{2} + 4 x_{3} \\leq 160.0\\\\\n",
       " & 3 x_{1} + 2 x_{2} + 6 x_{3} \\leq 150.0\\\\\n",
       " & x_{1} \\geq 0.0\\\\\n",
       " & x_{2} \\geq 0.0\\\\\n",
       " & x_{3} \\geq 0.0\\\\\n",
       " & x_{1} \\in \\mathbb{Z}\\\\\n",
       " & x_{2} \\in \\mathbb{Z}\\\\\n",
       " & x_{3} \\in \\mathbb{Z}\\\\\n",
       "\\end{aligned} $$"
      ]
     },
     "metadata": {},
     "output_type": "display_data"
    },
    {
     "name": "stdout",
     "output_type": "stream",
     "text": [
      "Revenu hebdomadaire maximal = 250.0\n",
      "Solution optimale :\n",
      "\t Nombre de produit 1 est fabriqué : 30.0\n",
      "\t Nombre de produit 2 est fabriqué : 0.0\n",
      "\t Nombre de produit 3 est fabriqué : 10.0\n"
     ]
    }
   ],
   "source": [
    "###############################\n",
    "#   Saisir votre code ici.    #\n",
    "###############################\n",
    "\n",
    "# reprise des données dans la question 1\n",
    "n = 3 # nombre de types d'objet / de produit\n",
    "C = [6; 4; 8] # tableau des couts\n",
    "V = [12; 8; 15] # tableau des prix de vent\n",
    "P = [4; 3; 4] # tableau des quantite de matiere plastiquee\n",
    "H = [3; 2; 6] # tableau des heures de travail nécessaires\n",
    "Q = 160 # quantite de matiere plastique dispo chaque semaine\n",
    "T = 150 # horaires dispo chaque semaine (hebdomadaire)\n",
    "\n",
    "# utilise ma formulation\n",
    "formulation_generique(n, C, V, P, H, Q, T)"
   ]
  },
  {
   "cell_type": "markdown",
   "metadata": {},
   "source": [
    "#### Question 2.3\n",
    "\n",
    "Résoudre l'instance correspondant aux données ci-dessous."
   ]
  },
  {
   "cell_type": "code",
   "execution_count": 5,
   "metadata": {},
   "outputs": [
    {
     "data": {
      "text/plain": [
       "140"
      ]
     },
     "execution_count": 5,
     "metadata": {},
     "output_type": "execute_result"
    }
   ],
   "source": [
    "#Données pour 2023 :\n",
    "n = 5\n",
    "C = [6;7;19;5;4]\n",
    "V = [11;16;37;10;10]\n",
    "P = [4;4;9;4;3]\n",
    "H = [3;6;11;3;4]\n",
    "Q = 200\n",
    "T = 140"
   ]
  },
  {
   "cell_type": "code",
   "execution_count": 6,
   "metadata": {},
   "outputs": [
    {
     "data": {
      "text/latex": [
       "$$ \\begin{aligned}\n",
       "\\max\\quad & 5 x_{1} + 9 x_{2} + 18 x_{3} + 5 x_{4} + 6 x_{5}\\\\\n",
       "\\text{Subject to} \\quad & 4 x_{1} + 4 x_{2} + 9 x_{3} + 4 x_{4} + 3 x_{5} \\leq 200.0\\\\\n",
       " & 3 x_{1} + 6 x_{2} + 11 x_{3} + 3 x_{4} + 4 x_{5} \\leq 140.0\\\\\n",
       " & x_{1} \\geq 0.0\\\\\n",
       " & x_{2} \\geq 0.0\\\\\n",
       " & x_{3} \\geq 0.0\\\\\n",
       " & x_{4} \\geq 0.0\\\\\n",
       " & x_{5} \\geq 0.0\\\\\n",
       " & x_{1} \\in \\mathbb{Z}\\\\\n",
       " & x_{2} \\in \\mathbb{Z}\\\\\n",
       " & x_{3} \\in \\mathbb{Z}\\\\\n",
       " & x_{4} \\in \\mathbb{Z}\\\\\n",
       " & x_{5} \\in \\mathbb{Z}\\\\\n",
       "\\end{aligned} $$"
      ]
     },
     "metadata": {},
     "output_type": "display_data"
    },
    {
     "name": "stdout",
     "output_type": "stream",
     "text": [
      "Revenu hebdomadaire maximal = 233.0\n",
      "Solution optimale :\n",
      "\t Nombre de produit 1 est fabriqué : 27.0\n",
      "\t Nombre de produit 2 est fabriqué : 0.0\n",
      "\t Nombre de produit 3 est fabriqué : 1.0\n",
      "\t Nombre de produit 4 est fabriqué : 16.0\n",
      "\t Nombre de produit 5 est fabriqué : 0.0\n"
     ]
    }
   ],
   "source": [
    "###############################\n",
    "#   Saisir votre code ici.    #\n",
    "###############################\n",
    "\n",
    "formulation_generique(n, C, V, P, H, Q, T)"
   ]
  },
  {
   "cell_type": "markdown",
   "metadata": {},
   "source": [
    "## Question 3"
   ]
  },
  {
   "cell_type": "markdown",
   "metadata": {},
   "source": [
    "En 2023, la firme ne disposera plus de ces machines et devra les louer. Ces machines peuvent être louées à la semaine aux prix suivants (M1 produit les bouteilles, M2 les sachets, et M3 les gants).\n",
    "\n",
    "Machine | M1 | M2 |M3\n",
    "-----|----|----|----\n",
    "Prix de location (semaine) | 200 | 150 | 100\n",
    "\n",
    "Intégrer la location des machines au plan de production précédent et déterminer le plan de production conduisant au revenu hebdomadaire maximal. \n",
    "(Pour produire chacun d'un des biens, il faut bien sûr avoir loué la machine correspondante !)"
   ]
  },
  {
   "cell_type": "code",
   "execution_count": 8,
   "metadata": {},
   "outputs": [
    {
     "data": {
      "text/latex": [
       "$$ \\begin{aligned}\n",
       "\\max\\quad & 6 x_{1} + 4 x_{2} + 7 x_{3} - 200 y_{1} - 150 y_{2} - 100 y_{3}\\\\\n",
       "\\text{Subject to} \\quad & 4 x_{1} + 3 x_{2} + 4 x_{3} \\leq 160.0\\\\\n",
       " & 3 x_{1} + 2 x_{2} + 6 x_{3} \\leq 150.0\\\\\n",
       " & x_{1} - 2022 y_{1} \\leq 0.0\\\\\n",
       " & x_{2} - 2022 y_{2} \\leq 0.0\\\\\n",
       " & x_{3} - 2022 y_{3} \\leq 0.0\\\\\n",
       " & x_{1} \\geq 0.0\\\\\n",
       " & x_{2} \\geq 0.0\\\\\n",
       " & x_{3} \\geq 0.0\\\\\n",
       " & x_{1} \\in \\mathbb{Z}\\\\\n",
       " & x_{2} \\in \\mathbb{Z}\\\\\n",
       " & x_{3} \\in \\mathbb{Z}\\\\\n",
       " & y_{1} \\in \\{0, 1\\}\\\\\n",
       " & y_{2} \\in \\{0, 1\\}\\\\\n",
       " & y_{3} \\in \\{0, 1\\}\\\\\n",
       "\\end{aligned} $$"
      ]
     },
     "metadata": {},
     "output_type": "display_data"
    },
    {
     "name": "stdout",
     "output_type": "stream",
     "text": [
      "Revenu hebdomadaire maximal = 75.0\n",
      "Solution optimale :\n",
      "\t Nombre de produit 1 est fabriqué : 0.0\n",
      "\t Nombre de produit 2 est fabriqué : 0.0\n",
      "\t Nombre de produit 3 est fabriqué : 25.0\n",
      "Affichage le status des machines :\n",
      "\t Machine 1 n'est PAS utilisé.\n",
      "\t Machine 2 n'est PAS utilisé.\n",
      "\t Machine 3 est utilisé.\n"
     ]
    }
   ],
   "source": [
    "############################## \n",
    "#   Saisir votre code ici.   #\n",
    "##############################\n",
    "\n",
    "# ajouter des machines avec le prix de location\n",
    "M = [200; 150; 100] # 200 pour M1, 150 pour M2, 100 pour M3\n",
    "\n",
    "# reprise des données dans la question 1 pour tester\n",
    "n = 3\n",
    "C = [6; 4; 8]\n",
    "V = [12; 8; 15]\n",
    "P = [4; 3; 4]\n",
    "H = [3; 2; 6]\n",
    "Q = 160 \n",
    "T = 150 \n",
    "\n",
    "function formulation_location(n, C, V, P, H, Q, T, M)\n",
    "\n",
    "    # crée des longueurs des tables\n",
    "    lenC = length(C) # longeurs de table des couts\n",
    "    lenP = length(P) # longeurs de table des quantite de matiere plastique\n",
    "    lenV = length(V) # longeurs de table des prix de vente\n",
    "    lenH = length(H) # longeurs de table des heures de travail nécessaires\n",
    "    lenM = length(M) # longeurs de table des prix de location de machines\n",
    "    \n",
    "    # crée un model\n",
    "    m = Model(GLPK.Optimizer)\n",
    "    \n",
    "    # crée des variables\n",
    "    @variable(m, x[1:n]>=0, Int) #x[1:n] - nombre des types d'objets à fabriquer\n",
    "\n",
    "    #= create variable binaire \n",
    "        0 si je n'utilise pas => on n'a pas besoin de payer le prix de location de machine\n",
    "        1 si j'utilise le machine => il faut payer\n",
    "    =#\n",
    "    @variable(m, y[1:lenM], Bin)\n",
    "    \n",
    "    #revenue hebdo max = prix de vente - cout de production - prix de location machine\n",
    "    @objective(m, Max, sum(V[i]*x[i] for i in 1:lenV) - sum(C[i]*x[i] for i in 1:lenC) - sum(M[j]*y[j] for j in 1:lenM))\n",
    "    \n",
    "    # constraint pour quantite plastique Q de P\n",
    "    @constraint(m, sum(P[i]*x[i] for i in 1:lenP) <= Q)\n",
    "    \n",
    "    # constraint pour heures travail T\n",
    "    @constraint(m, sum(H[i]*x[i] for i in 1:lenH) <= T)\n",
    "    \n",
    "    # constraint pour activer la machine M\n",
    "    # On suppose que le nombre de produit ne peut pas dépasser 2022 (s'il dépasse, on augmente 2022 pour qu'il ne dépasse pas) (comme ne dépasse pas largeur 240 dans TP4)\n",
    "    for i in 1:lenM\n",
    "        #= soit x = 0 , soit x <= 2022 (avec condition nombre de produit (x) <= 2022)\n",
    "            si nombre de produit (x) = 0 => y = 0 => on n'utilise pas de machine => on n'active pas M\n",
    "            si nombre de produit (x) <= 2022 => y = 1 => on utilise machine => on active M\n",
    "        =#\n",
    "        @constraint(m, x[i] - y[i]*2022 <= 0)\n",
    "    end\n",
    "\n",
    "    # affichage le model\n",
    "    print(m)\n",
    "    \n",
    "    # Pour conclure\n",
    "    optimize!(m)\n",
    "\n",
    "    status = termination_status(m)\n",
    "\n",
    "    if status == INFEASIBLE\n",
    "        println(\"Le problème n'est pas réalisable\")\n",
    "    elseif status == UNBOUNDED\n",
    "        println(\"Le problème est non borné\")\n",
    "    elseif status == OPTIMAL\n",
    "        println(\"Revenu hebdomadaire maximal = \", JuMP.objective_value(m))\n",
    "        println(\"Solution optimale :\")\n",
    "        for i in 1:n\n",
    "            println(\"\\t Nombre de produit $i est fabriqué : \", JuMP.value(x[i])) \n",
    "        end\n",
    "        println(\"Affichage le status des machines :\")\n",
    "        for i in 1:3\n",
    "            if JuMP.value(y[i]) == 1\n",
    "                println(\"\\t Machine $i est utilisé.\")\n",
    "            else\n",
    "                println(\"\\t Machine $i n'est PAS utilisé.\")\n",
    "            end\n",
    "        end\n",
    "    else\n",
    "        println(\"Problème lors de la résolution\")\n",
    "    end\n",
    "end\n",
    "\n",
    "# test la formulation\n",
    "formulation_location(n, C, V, P, H, Q, T, M)"
   ]
  },
  {
   "cell_type": "code",
   "execution_count": null,
   "metadata": {},
   "outputs": [],
   "source": []
  }
 ],
 "metadata": {
  "@webio": {
   "lastCommId": "ff3e9586f5ab4bb8bd2512384a36046d",
   "lastKernelId": "4608fd7a-aaef-4d95-9577-187f6e69e829"
  },
  "kernelspec": {
   "display_name": "Julia 1.8.2",
   "language": "julia",
   "name": "julia-1.8"
  },
  "language_info": {
   "file_extension": ".jl",
   "mimetype": "application/julia",
   "name": "julia",
   "version": "1.8.2"
  },
  "toc": {
   "base_numbering": 1,
   "nav_menu": {},
   "number_sections": true,
   "sideBar": true,
   "skip_h1_title": true,
   "title_cell": "Table des matières",
   "title_sidebar": "Table des matières",
   "toc_cell": false,
   "toc_position": {},
   "toc_section_display": true,
   "toc_window_display": false
  },
  "varInspector": {
   "cols": {
    "lenName": 16,
    "lenType": 16,
    "lenVar": 40
   },
   "kernels_config": {
    "python": {
     "delete_cmd_postfix": "",
     "delete_cmd_prefix": "del ",
     "library": "var_list.py",
     "varRefreshCmd": "print(var_dic_list())"
    },
    "r": {
     "delete_cmd_postfix": ") ",
     "delete_cmd_prefix": "rm(",
     "library": "var_list.r",
     "varRefreshCmd": "cat(var_dic_list()) "
    }
   },
   "types_to_exclude": [
    "module",
    "function",
    "builtin_function_or_method",
    "instance",
    "_Feature"
   ],
   "window_display": false
  }
 },
 "nbformat": 4,
 "nbformat_minor": 2
}
