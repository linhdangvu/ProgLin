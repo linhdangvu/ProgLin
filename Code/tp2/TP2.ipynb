{
 "cells": [
  {
   "cell_type": "markdown",
   "metadata": {
    "deletable": false,
    "editable": false,
    "run_control": {
     "frozen": true
    }
   },
   "source": [
    "# TP2 : Affectation"
   ]
  },
  {
   "cell_type": "code",
   "execution_count": 5,
   "metadata": {},
   "outputs": [],
   "source": [
    "# Librairies à importer pour utiliser JuMP avec le solver GLPK\n",
    "using JuMP\n",
    "using GLPK\n",
    "\n",
    "# Définition de constantes pour le statut de résolution du problème\n",
    "const OPTIMAL = JuMP.MathOptInterface.OPTIMAL\n",
    "const INFEASIBLE = JuMP.MathOptInterface.INFEASIBLE\n",
    "const UNBOUNDED = JuMP.MathOptInterface.DUAL_INFEASIBLE;"
   ]
  },
  {
   "cell_type": "markdown",
   "metadata": {
    "deletable": false,
    "editable": false,
    "run_control": {
     "frozen": true
    }
   },
   "source": [
    "Dans la commune de *Rolette*, il y a 3 quartiers et 3 maternelles. \n",
    "Les coûts de transport par élève des 3 zones aux différentes écoles sont donnés dans le tableau ci-dessous. \n",
    "Le signe `-` indique une affectation impossible.\n",
    "\n",
    "Zone | Nombre d'élèves | École 1 | École 2 | École 3\n",
    "-----|-----------------|---------|--------|----------\n",
    "1 | 450 | 300 | - | 700\n",
    "2 | 600 | -  | 400| 500\n",
    "3 | 550 | 600 | 300 | 200\n",
    "\n",
    "\n",
    "\n",
    "Voici la capacité d'acceuil de chaque école :\n",
    "\n",
    " École 1 | École 2 | École 3\n",
    "---------|--------|----------\n",
    "700 | 450 | 600\n",
    "\n",
    "## Exercice 1\n",
    "\n",
    "Quelle est l'affectation des élèves dans les trois écoles, qui minimise le coût global de transport pris en charge par la commune ?\n",
    "\n",
    "Modéliser et résoudre ce problème en JuMP.\n",
    "\n",
    "Pour cela, on utilisera une variable entière pour chaque zone et chaque école (dont l'affectation est possible) indiquant le nombre d'élèves de la zone affectés à l'école.\n",
    "\n",
    "Les contraintes sont :\n",
    "\n",
    "* contraintes d'affectation : tous les élèves doivent être afféctés à une école\n",
    "* contraintes de capacité : une école ne peut pas accueillir plus d'élève que sa capacité\n"
   ]
  },
  {
   "cell_type": "code",
   "execution_count": 4,
   "metadata": {
    "tags": [
     "answer"
    ]
   },
   "outputs": [
    {
     "name": "stdout",
     "output_type": "stream",
     "text": [
      "le coût minimum de transport est : 540000.0\n",
      "Nombre d'élèves de la zone 1 à l'école 1 = 450.0\n",
      "Nombre d'élèves de la zone 1 à l'école 3 = 0.0\n",
      "Nombre d'élèves de la zone 2 à l'école 2 = 450.0\n",
      "Nombre d'élèves de la zone 2 à l'école 3 = 150.0\n",
      "Nombre d'élèves de la zone 3 à l'école 1 = 100.0\n",
      "Nombre d'élèves de la zone 3 à l'école 2 = 0.0\n",
      "Nombre d'élèves de la zone 3 à l'école 3 = 450.0\n"
     ]
    }
   ],
   "source": [
    "############################## \n",
    "#   Saisir votre code ici.   #\n",
    "##############################\n",
    "function optimise_affectation()\n",
    "\n",
    "    affectation = Model(GLPK.Optimizer)\n",
    "\n",
    "    #variables xij entières : combien d'élèves de la zone i sont affectés à l'école j\n",
    "    @variable(affectation, 0 <= x11, Int)\n",
    "    @variable(affectation, 0 <= x13, Int)\n",
    "    @variable(affectation, 0 <= x22, Int)\n",
    "    @variable(affectation, 0 <= x23, Int)\n",
    "    @variable(affectation, 0 <= x31, Int)\n",
    "    @variable(affectation, 0 <= x32, Int)\n",
    "    @variable(affectation, 0 <= x33, Int)\n",
    "\n",
    "    #La fonction objectif : On cherche à minimiser le nombre de rouleaux decoupes.\n",
    "    @objective(affectation, Min, 300x11 + 700x13 + 400x22 + 500x23 + 600x31 + 300x32 + 200x33)\n",
    "\n",
    "    #contrainte affectation par zone\n",
    "    @constraint(affectation, x11 + x13 == 450)\n",
    "    @constraint(affectation, x22 + x23 == 600)\n",
    "    @constraint(affectation, x31 + x32 + x33 == 550)\n",
    "\n",
    "\n",
    "    #contrainte capacité\n",
    "    @constraint(affectation, x11 + x31 <= 700)\n",
    "    @constraint(affectation, x22 + x32 <= 450)\n",
    "    @constraint(affectation, x13 + x23 + x33 <= 600)\n",
    "\n",
    "\n",
    "    JuMP.optimize!(affectation)\n",
    "\n",
    "    println(\"le coût minimum de transport est : \", objective_value(affectation))\n",
    "\n",
    "    #Affichage du résultat\n",
    "\n",
    "    println(\"Nombre d'élèves de la zone 1 à l'école 1 = \", JuMP.value(x11))\n",
    "    println(\"Nombre d'élèves de la zone 1 à l'école 3 = \", JuMP.value(x13))\n",
    "    println(\"Nombre d'élèves de la zone 2 à l'école 2 = \", JuMP.value(x22))\n",
    "    println(\"Nombre d'élèves de la zone 2 à l'école 3 = \", JuMP.value(x23))\n",
    "    println(\"Nombre d'élèves de la zone 3 à l'école 1 = \", JuMP.value(x31))\n",
    "    println(\"Nombre d'élèves de la zone 3 à l'école 2 = \", JuMP.value(x32))\n",
    "    println(\"Nombre d'élèves de la zone 3 à l'école 3 = \", JuMP.value(x33))\n",
    "\n",
    "end\n",
    "\n",
    "optimise_affectation()"
   ]
  },
  {
   "cell_type": "markdown",
   "metadata": {
    "deletable": false,
    "editable": false,
    "run_control": {
     "frozen": true
    }
   },
   "source": [
    "## Exercice 2\n",
    "\n",
    "### Question 1\n",
    "\n",
    "Écrire sur feuille une formulation générique du problème d'affectation de coût minimum, c'est-à-dire une formulation qui dépend des paramètres suivants :\n",
    "\n",
    "* $E$ : l'ensemble des écoles,\n",
    "* $Z$ : l'ensemble des zones,\n",
    "* $P_j$ : capacité de l'école $j$,\n",
    "* $n_i$ : nombre d'élèves de la zone $i$,\n",
    "* $c_{i,j}$ : coût de transport d'un élève de la zone $i$ vers l'école $j$.\n",
    "\n",
    "Pour cela, on utilisera les variables $x_{i,j}$ correspondant au nombre d'enfants de la zone $i$ affectés à l'école $j$."
   ]
  },
  {
   "cell_type": "markdown",
   "metadata": {
    "deletable": false,
    "editable": false,
    "run_control": {
     "frozen": true
    }
   },
   "source": [
    "### Question 2\n",
    "\n",
    "Écrire cette formulation générique en JuMP. Pour cela, on utilisera des variables indexées par des ensembles. Vous trouverez la documentation et les exemples avec les liens suivants.\n",
    "\n",
    "* [Documentation](http://www.juliaopt.org/JuMP.jl/v0.20.0/)\n",
    "* [Exemples](https://github.com/JuliaOpt/JuMP.jl/tree/release-0.20/examples)\n",
    "\n",
    "Résoudre le problème donné par les valeurs suivantes : "
   ]
  },
  {
   "cell_type": "code",
   "execution_count": 2,
   "metadata": {},
   "outputs": [
    {
     "data": {
      "text/plain": [
       "1×6 Array{Int64,2}:\n",
       " 450  600  550  350  500  450"
      ]
     },
     "execution_count": 2,
     "metadata": {},
     "output_type": "execute_result"
    }
   ],
   "source": [
    "# Coûts d'affectation des zones aux écoles (0 signifie affectation impossible)\n",
    "c = [300 0 700;\n",
    "    0 400 500;\n",
    "    600 300 200;\n",
    "    200 500 0;\n",
    "    0 0 400;\n",
    "    500 300 0]\n",
    "\n",
    "# Capacité des écoles\n",
    "P = [900 1100 1000]\n",
    "\n",
    "# Nombre d'élèves dans chaque zone\n",
    "n = [450 600 550 350 500 450]"
   ]
  },
  {
   "cell_type": "code",
   "execution_count": 3,
   "metadata": {
    "tags": [
     "answer"
    ]
   },
   "outputs": [],
   "source": [
    "############################## \n",
    "#   Saisir votre code ici.   #\n",
    "##############################"
   ]
  },
  {
   "cell_type": "code",
   "execution_count": null,
   "metadata": {},
   "outputs": [],
   "source": [
    "function exo2_q2()\n",
    "    # create a model\n",
    "    m = Model(GLPK.Optimizer)\n",
    "    \n",
    "    # create variable\n",
    "    @variable(m, c11 >= 0, Int)\n",
    "    @variable(m, c13 >= 0, Int)\n",
    "    @variable(m, c22 >= 0, Int)\n",
    "    @variable(m, c23 >= 0, Int)\n",
    "    @variable(m, c31 >= 0, Int)\n",
    "    @variable(m, c32 >= 0, Int)\n",
    "    @variable(m, c33 >= 0, Int)\n",
    "    @variable(m, c41 >= 0, Int)\n",
    "    @variable(m, c42 >= 0, Int)\n",
    "    @variable(m, c53 >= 0, Int)\n",
    "    @variable(m, c61 >= 0, Int)\n",
    "    @variable(m, c62 >= 0, Int)\n",
    "    \n",
    "    # la fonction objecti\n",
    "    @objective(m, Min, 300c11+700c13+400c22+500c23+600c31+300c32+200c33+200c41+500c42+400c53+500c61+300c62)\n",
    "end"
   ]
  },
  {
   "cell_type": "code",
   "execution_count": 7,
   "metadata": {},
   "outputs": [
    {
     "name": "stdout",
     "output_type": "stream",
     "text": [
      "1\n",
      "2\n",
      "3\n",
      "4\n",
      "5\n"
     ]
    },
    {
     "ename": "LoadError",
     "evalue": "syntax: incomplete: premature end of input",
     "output_type": "error",
     "traceback": [
      "syntax: incomplete: premature end of input",
      "",
      "Stacktrace:",
      " [1] top-level scope",
      "   @ In[7]:6",
      " [2] eval",
      "   @ ./boot.jl:368 [inlined]",
      " [3] include_string(mapexpr::typeof(REPL.softscope), mod::Module, code::String, filename::String)",
      "   @ Base ./loading.jl:1428"
     ]
    }
   ],
   "source": [
    "z = 5\n",
    "for i in 1:z\n",
    "    println(i)\n",
    "end\n",
    "arr = [1,2,3,4,5]\n"
   ]
  },
  {
   "cell_type": "code",
   "execution_count": null,
   "metadata": {},
   "outputs": [],
   "source": []
  }
 ],
 "metadata": {
  "@webio": {
   "lastCommId": "9d3838a71c45492d85c82c1475535c5d",
   "lastKernelId": "febbe2ec-f845-4981-b124-1eb7c36a0b3b"
  },
  "kernelspec": {
   "display_name": "Julia 1.8.2",
   "language": "julia",
   "name": "julia-1.8"
  },
  "language_info": {
   "file_extension": ".jl",
   "mimetype": "application/julia",
   "name": "julia",
   "version": "1.8.2"
  },
  "toc": {
   "base_numbering": 1,
   "nav_menu": {},
   "number_sections": true,
   "sideBar": true,
   "skip_h1_title": true,
   "title_cell": "Table des matières",
   "title_sidebar": "Table des matières",
   "toc_cell": false,
   "toc_position": {},
   "toc_section_display": true,
   "toc_window_display": false
  },
  "varInspector": {
   "cols": {
    "lenName": 16,
    "lenType": 16,
    "lenVar": 40
   },
   "kernels_config": {
    "python": {
     "delete_cmd_postfix": "",
     "delete_cmd_prefix": "del ",
     "library": "var_list.py",
     "varRefreshCmd": "print(var_dic_list())"
    },
    "r": {
     "delete_cmd_postfix": ") ",
     "delete_cmd_prefix": "rm(",
     "library": "var_list.r",
     "varRefreshCmd": "cat(var_dic_list()) "
    }
   },
   "types_to_exclude": [
    "module",
    "function",
    "builtin_function_or_method",
    "instance",
    "_Feature"
   ],
   "window_display": false
  }
 },
 "nbformat": 4,
 "nbformat_minor": 4
}
