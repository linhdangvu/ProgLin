{
 "cells": [
  {
   "cell_type": "markdown",
   "metadata": {
    "collapsed": true
   },
   "source": [
    "# TP2 : Affectation"
   ]
  },
  {
   "cell_type": "code",
   "execution_count": 2,
   "metadata": {},
   "outputs": [],
   "source": [
    "# Librairies à importer pour utiliser JuMP avec le solver GLPK\n",
    "using JuMP\n",
    "using GLPK\n",
    "\n",
    "# Définition de constantes pour le statut de résolution du problème\n",
    "const OPTIMAL = JuMP.MathOptInterface.OPTIMAL\n",
    "const INFEASIBLE = JuMP.MathOptInterface.INFEASIBLE\n",
    "const UNBOUNDED = JuMP.MathOptInterface.DUAL_INFEASIBLE;"
   ]
  },
  {
   "cell_type": "markdown",
   "metadata": {
    "collapsed": true
   },
   "source": [
    "Dans la commune de *Rolette*, il y a 3 zones et 3 maternelles. \n",
    "Les coûts de transport par élève des 3 zones aux différentes écoles sont donnés dans le tableau ci-dessous. \n",
    "Le signe `-` indique une affectation impossible.\n",
    "\n",
    "Zone | Nombre d'élèves | École 1 | École 2 | École 3\n",
    "-----|-----------------|---------|--------|----------\n",
    "1 | 450 | 300 | - | 700\n",
    "2 | 600 | -  | 400| 500\n",
    "3 | 550 | 600 | 300 | 200\n",
    "\n",
    "\n",
    "\n",
    "Voici la capacité d'acceuil de chaque école :\n",
    "\n",
    " École 1 | École 2 | École 3\n",
    "---------|--------|----------\n",
    "700 | 450 | 600\n",
    "\n",
    "## Exercice 1\n",
    "\n",
    "Quelle est l'affectation des élèves dans les trois écoles, qui minimise le coût global de transport pris en charge par la commune ?\n",
    "\n",
    "Modéliser et résoudre ce problème en JuMP.\n",
    "\n",
    "Pour cela, on utilisera une variable entière pour chaque zone et chaque école (dont l'affectation est possible) indiquant le nombre d'élèves de la zone affectés à l'école.\n",
    "\n",
    "Les contraintes sont :\n",
    "\n",
    "* contraintes d'affectation : tous les élèves doivent être afféctés à une école\n",
    "* contraintes de capacité : une école ne peut pas accueillir plus d'élève que sa capacité\n"
   ]
  },
  {
   "cell_type": "code",
   "execution_count": 3,
   "metadata": {
    "tags": [
     "answer"
    ]
   },
   "outputs": [
    {
     "data": {
      "text/plain": [
       "optimise_affectation (generic function with 1 method)"
      ]
     },
     "execution_count": 3,
     "metadata": {},
     "output_type": "execute_result"
    }
   ],
   "source": [
    "function optimise_affectation()\n",
    "\n",
    "    affectation = Model(GLPK.Optimizer)\n",
    "\n",
    "    #variables xij entières : combien d'élèves de la zone i sont affectés à l'école j\n",
    "    @variable(affectation, 0 <= x11, Int)\n",
    "    @variable(affectation, 0 <= x13, Int)\n",
    "    @variable(affectation, 0 <= x22, Int)\n",
    "    @variable(affectation, 0 <= x23, Int)\n",
    "    @variable(affectation, 0 <= x31, Int)\n",
    "    @variable(affectation, 0 <= x32, Int)\n",
    "    @variable(affectation, 0 <= x33, Int)\n",
    "\n",
    "    #La fonction objectif : On cherche à minimiser le nombre de rouleaux decoupes.\n",
    "    @objective(affectation, Min, 300x11 + 700x13 + 400x22 + 500x23 + 600x31 + 300x32 + 200x33)\n",
    "\n",
    "    #contrainte affectation par zone\n",
    "    @constraint(affectation, x11 + x13 == 450)\n",
    "    @constraint(affectation, x22 + x23 == 600)\n",
    "    @constraint(affectation, x31 + x32 + x33 == 550)\n",
    "        \n",
    "            \n",
    "    #contrainte capacité\n",
    "    @constraint(affectation, x11 + x31 <= 700)\n",
    "    @constraint(affectation, x22 + x32 <= 450)\n",
    "    @constraint(affectation, x13 + x23 + x33 <= 600)\n",
    "        \n",
    "       \n",
    "    JuMP.optimize!(affectation)\n",
    "    \n",
    "    println(\"le coût minimum de transport est : \", objective_value(affectation))\n",
    "        \n",
    "    #Affichage du résultat\n",
    "        \n",
    "    println(\"Nombre d'élèves de la zone 1 à l'école 1 = \", JuMP.value(x11))\n",
    "    println(\"Nombre d'élèves de la zone 1 à l'école 3 = \", JuMP.value(x13))\n",
    "    println(\"Nombre d'élèves de la zone 2 à l'école 2 = \", JuMP.value(x22))\n",
    "    println(\"Nombre d'élèves de la zone 2 à l'école 3 = \", JuMP.value(x23))\n",
    "    println(\"Nombre d'élèves de la zone 3 à l'école 1 = \", JuMP.value(x31))\n",
    "    println(\"Nombre d'élèves de la zone 3 à l'école 2 = \", JuMP.value(x32))\n",
    "    println(\"Nombre d'élèves de la zone 3 à l'école 3 = \", JuMP.value(x33))\n",
    "        \n",
    "end"
   ]
  },
  {
   "cell_type": "code",
   "execution_count": 4,
   "metadata": {
    "tags": [
     "answer"
    ]
   },
   "outputs": [
    {
     "name": "stdout",
     "output_type": "stream",
     "text": [
      "le coût minimum de transport est : 540000.0\n",
      "Nombre d'élèves de la zone 1 à l'école 1 = 450.0\n",
      "Nombre d'élèves de la zone 1 à l'école 3 = 0.0\n",
      "Nombre d'élèves de la zone 2 à l'école 2 = 450.0\n",
      "Nombre d'élèves de la zone 2 à l'école 3 = 150.0\n",
      "Nombre d'élèves de la zone 3 à l'école 1 = 100.0\n",
      "Nombre d'élèves de la zone 3 à l'école 2 = 0.0\n",
      "Nombre d'élèves de la zone 3 à l'école 3 = 450.0\n"
     ]
    }
   ],
   "source": [
    "optimise_affectation()"
   ]
  },
  {
   "cell_type": "markdown",
   "metadata": {},
   "source": [
    "## Exercice 2\n",
    "\n",
    "### Question 1\n",
    "\n",
    "Écrire sur feuille une formulation générique du problème d'affectation de coût minimum, c'est-à-dire une formulation qui dépend des paramètres suivants :\n",
    "\n",
    "* $E$ : l'ensemble des écoles,\n",
    "* $Z$ : l'ensemble des zones,\n",
    "* $P_j$ : capacité de l'école $j$,\n",
    "* $n_i$ : nombre d'élèves de la zone $i$,\n",
    "* $c_{i,j}$ : coût de transport d'un élève de la zone $i$ vers l'école $j$.\n",
    "\n",
    "Pour cela, on utilisera les variables $x_{i,j}$ correspondant au nombre d'enfants de la zone $i$ affectés à l'école $j$."
   ]
  },
  {
   "cell_type": "markdown",
   "metadata": {
    "tags": [
     "answer",
     "removeFromStudent"
    ]
   },
   "source": [
    "$\\displaystyle\\min \\sum_{i\\in Z}\\sum_{j\\in E}c_{i,j} x_{i,j}$\n",
    "\n",
    "$\\displaystyle\\sum_{j\\in E} x_{i,j} = n_i$, pour tout $i\\in Z$\n",
    "\n",
    "$\\displaystyle\\sum_{i\\in Z} x_{i,j} \\leq P_j$, pour tout $j\\in E$\n",
    "\n",
    "$\\displaystyle x_{i,j} \\ge 0 \\text{ entier}$, pour tout $i \\in Z$ et $j\\in E$"
   ]
  },
  {
   "cell_type": "markdown",
   "metadata": {},
   "source": [
    "### Question 2\n",
    "\n",
    "Écrire cette formulation générique en JuMP. Pour cela, on utilisera des variables indexées par des ensembles. Vous trouverez la documentation et les exemples avec les liens suivants.\n",
    "\n",
    "* [Documentation](http://www.juliaopt.org/JuMP.jl/v0.20.0/)\n",
    "* [Exemples](https://github.com/JuliaOpt/JuMP.jl/tree/release-0.20/examples)\n",
    "\n",
    "Résoudre le problème donné par les valeurs suivantes : "
   ]
  },
  {
   "cell_type": "code",
   "execution_count": 3,
   "metadata": {},
   "outputs": [
    {
     "data": {
      "text/plain": [
       "1×6 Array{Int64,2}:\n",
       " 450  600  550  350  500  450"
      ]
     },
     "execution_count": 3,
     "metadata": {},
     "output_type": "execute_result"
    }
   ],
   "source": [
    "# Coûts d'affectation des zones aux écoles\n",
    "c = [300 0 700;\n",
    "    0 400 500;\n",
    "    600 300 200;\n",
    "    200 500 0;\n",
    "    0 0 400;\n",
    "    500 300 0]\n",
    "\n",
    "# Capacité des écoles\n",
    "P = [900 1100 1000]\n",
    "\n",
    "# Nombre d'élèves dans chaque zone\n",
    "n = [450 600 550 350 500 450]\n",
    "\n"
   ]
  },
  {
   "cell_type": "code",
   "execution_count": 4,
   "metadata": {
    "tags": [
     "answer"
    ]
   },
   "outputs": [
    {
     "data": {
      "text/plain": [
       "optimise_affectation (generic function with 1 method)"
      ]
     },
     "execution_count": 4,
     "metadata": {},
     "output_type": "execute_result"
    }
   ],
   "source": [
    "function optimise_affectation(P,n,M)\n",
    "\n",
    "    z = length(n)\n",
    "    e = length(P)\n",
    "    affectation = Model(with_optimizer(GLPK.Optimizer))\n",
    "\n",
    "    #variables x[i,j] entières : combien d'élèves de la zone i sont affectés à l'école j\n",
    "    @variable(affectation, 0 <= x[1:z,1:e], Int)\n",
    "\n",
    "    #La fonction objectif : On cherche à minimiser le nombre de rouleaux decoupes.\n",
    "    @objective(affectation, Min, sum(M[zone,ecole]*x[zone,ecole] for zone in 1:z for ecole in 1:e))\n",
    "\n",
    "    #contrainte affectation\n",
    "    for zone in 1:z\n",
    "        @constraint(affectation, sum(x[zone,:]) == n[zone])\n",
    "    end    \n",
    "            \n",
    "    #contrainte capacité\n",
    "    for ecole in 1:e\n",
    "        @constraint(affectation, sum(x[:,ecole]) <= P[ecole])\n",
    "    end  \n",
    "\n",
    "    #contrainte d'impossibilité\n",
    "    for zone in 1:z\n",
    "        for ecole in 1:e\n",
    "            if M[zone,ecole] == 0\n",
    "                @constraint(affectation, x[zone,ecole] == 0)\n",
    "            end\n",
    "        end\n",
    "    end    \n",
    "\n",
    "    print(affectation)\n",
    "        \n",
    "    JuMP.optimize!(affectation)\n",
    "    \n",
    "    println(\"le coût minimum de transport est : \", objective_value(affectation))\n",
    "        \n",
    "    #Affichage du résultat\n",
    "        \n",
    "    for zone in 1:z\n",
    "        for ecole in 1:e\n",
    "            if JuMP.value(x[zone,ecole])!=0\n",
    "                println(\"le nombre d'élèves de la zone $zone affectés à l'école $ecole est \", JuMP.value(x[zone,ecole]),\" \\n\")\n",
    "            end\n",
    "        end\n",
    "    end\n",
    "            \n",
    "    for ecole in 1:e\n",
    "                println(\"le nombre d'élèves de l'école $ecole est \", sum(JuMP.value(x[zone,ecole]) for zone in 1:z),\" \\n\")\n",
    "    end\n",
    "        \n",
    "end\n",
    "    "
   ]
  },
  {
   "cell_type": "code",
   "execution_count": 5,
   "metadata": {
    "tags": [
     "answer"
    ]
   },
   "outputs": [
    {
     "data": {
      "text/latex": [
       "$$ \\begin{aligned}\n",
       "\\min\\quad & 300 x_{1,1} + 700 x_{1,3} + 400 x_{2,2} + 500 x_{2,3} + 600 x_{3,1} + 300 x_{3,2} + 200 x_{3,3} + 200 x_{4,1} + 500 x_{4,2} + 400 x_{5,3} + 500 x_{6,1} + 300 x_{6,2}\\\\\n",
       "\\text{Subject to} \\quad & x_{1,1} + x_{1,2} + x_{1,3} = 450.0\\\\\n",
       " & x_{2,1} + x_{2,2} + x_{2,3} = 600.0\\\\\n",
       " & x_{3,1} + x_{3,2} + x_{3,3} = 550.0\\\\\n",
       " & x_{4,1} + x_{4,2} + x_{4,3} = 350.0\\\\\n",
       " & x_{5,1} + x_{5,2} + x_{5,3} = 500.0\\\\\n",
       " & x_{6,1} + x_{6,2} + x_{6,3} = 450.0\\\\\n",
       " & x_{1,2} = 0.0\\\\\n",
       " & x_{2,1} = 0.0\\\\\n",
       " & x_{4,3} = 0.0\\\\\n",
       " & x_{5,1} = 0.0\\\\\n",
       " & x_{5,2} = 0.0\\\\\n",
       " & x_{6,3} = 0.0\\\\\n",
       " & x_{1,1} + x_{2,1} + x_{3,1} + x_{4,1} + x_{5,1} + x_{6,1} \\leq 900.0\\\\\n",
       " & x_{1,2} + x_{2,2} + x_{3,2} + x_{4,2} + x_{5,2} + x_{6,2} \\leq 1100.0\\\\\n",
       " & x_{1,3} + x_{2,3} + x_{3,3} + x_{4,3} + x_{5,3} + x_{6,3} \\leq 1000.0\\\\\n",
       " & x_{1,1} \\geq 0.0\\\\\n",
       " & x_{2,1} \\geq 0.0\\\\\n",
       " & x_{3,1} \\geq 0.0\\\\\n",
       " & x_{4,1} \\geq 0.0\\\\\n",
       " & x_{5,1} \\geq 0.0\\\\\n",
       " & x_{6,1} \\geq 0.0\\\\\n",
       " & x_{1,2} \\geq 0.0\\\\\n",
       " & x_{2,2} \\geq 0.0\\\\\n",
       " & x_{3,2} \\geq 0.0\\\\\n",
       " & x_{4,2} \\geq 0.0\\\\\n",
       " & x_{5,2} \\geq 0.0\\\\\n",
       " & x_{6,2} \\geq 0.0\\\\\n",
       " & x_{1,3} \\geq 0.0\\\\\n",
       " & x_{2,3} \\geq 0.0\\\\\n",
       " & x_{3,3} \\geq 0.0\\\\\n",
       " & x_{4,3} \\geq 0.0\\\\\n",
       " & x_{5,3} \\geq 0.0\\\\\n",
       " & x_{6,3} \\geq 0.0\\\\\n",
       " & x_{1,1} \\in \\mathbb{Z}\\\\\n",
       " & x_{2,1} \\in \\mathbb{Z}\\\\\n",
       " & x_{3,1} \\in \\mathbb{Z}\\\\\n",
       " & x_{4,1} \\in \\mathbb{Z}\\\\\n",
       " & x_{5,1} \\in \\mathbb{Z}\\\\\n",
       " & x_{6,1} \\in \\mathbb{Z}\\\\\n",
       " & x_{1,2} \\in \\mathbb{Z}\\\\\n",
       " & x_{2,2} \\in \\mathbb{Z}\\\\\n",
       " & x_{3,2} \\in \\mathbb{Z}\\\\\n",
       " & x_{4,2} \\in \\mathbb{Z}\\\\\n",
       " & x_{5,2} \\in \\mathbb{Z}\\\\\n",
       " & x_{6,2} \\in \\mathbb{Z}\\\\\n",
       " & x_{1,3} \\in \\mathbb{Z}\\\\\n",
       " & x_{2,3} \\in \\mathbb{Z}\\\\\n",
       " & x_{3,3} \\in \\mathbb{Z}\\\\\n",
       " & x_{4,3} \\in \\mathbb{Z}\\\\\n",
       " & x_{5,3} \\in \\mathbb{Z}\\\\\n",
       " & x_{6,3} \\in \\mathbb{Z}\\\\\n",
       "\\end{aligned} $$"
      ]
     },
     "metadata": {},
     "output_type": "display_data"
    },
    {
     "name": "stdout",
     "output_type": "stream",
     "text": [
      "le coût minimum de transport est : 895000.0\n",
      "le nombre d'élèves de la zone 1 affectés à l'école 1 est 450.0 \n",
      "\n",
      "le nombre d'élèves de la zone 2 affectés à l'école 2 est 600.0 \n",
      "\n",
      "le nombre d'élèves de la zone 3 affectés à l'école 2 est 50.0 \n",
      "\n",
      "le nombre d'élèves de la zone 3 affectés à l'école 3 est 500.0 \n",
      "\n",
      "le nombre d'élèves de la zone 4 affectés à l'école 1 est 350.0 \n",
      "\n",
      "le nombre d'élèves de la zone 5 affectés à l'école 3 est 500.0 \n",
      "\n",
      "le nombre d'élèves de la zone 6 affectés à l'école 2 est 450.0 \n",
      "\n",
      "le nombre d'élèves de l'école 1 est 800.0 \n",
      "\n",
      "le nombre d'élèves de l'école 2 est 1100.0 \n",
      "\n",
      "le nombre d'élèves de l'école 3 est 1000.0 \n",
      "\n"
     ]
    }
   ],
   "source": [
    "optimise_affectation(P,n,c)"
   ]
  },
  {
   "cell_type": "code",
   "execution_count": null,
   "metadata": {},
   "outputs": [],
   "source": []
  }
 ],
 "metadata": {
  "@webio": {
   "lastCommId": "0c47fcb3db9d4306a7c20eba1639137f",
   "lastKernelId": "6a813a7c-7580-44ad-b153-e3e578ad7d58"
  },
  "celltoolbar": "Tags",
  "kernelspec": {
   "display_name": "Julia 1.5.3",
   "language": "julia",
   "name": "julia-1.5"
  },
  "language_info": {
   "file_extension": ".jl",
   "mimetype": "application/julia",
   "name": "julia",
   "version": "1.5.3"
  },
  "toc": {
   "base_numbering": 1,
   "nav_menu": {},
   "number_sections": true,
   "sideBar": true,
   "skip_h1_title": true,
   "title_cell": "Table des matières",
   "title_sidebar": "Table des matières",
   "toc_cell": false,
   "toc_position": {},
   "toc_section_display": true,
   "toc_window_display": false
  },
  "varInspector": {
   "cols": {
    "lenName": 16,
    "lenType": 16,
    "lenVar": 40
   },
   "kernels_config": {
    "python": {
     "delete_cmd_postfix": "",
     "delete_cmd_prefix": "del ",
     "library": "var_list.py",
     "varRefreshCmd": "print(var_dic_list())"
    },
    "r": {
     "delete_cmd_postfix": ") ",
     "delete_cmd_prefix": "rm(",
     "library": "var_list.r",
     "varRefreshCmd": "cat(var_dic_list()) "
    }
   },
   "types_to_exclude": [
    "module",
    "function",
    "builtin_function_or_method",
    "instance",
    "_Feature"
   ],
   "window_display": false
  }
 },
 "nbformat": 4,
 "nbformat_minor": 2
}
