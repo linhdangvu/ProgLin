{
 "cells": [
  {
   "cell_type": "markdown",
   "metadata": {
    "deletable": false,
    "editable": false,
    "run_control": {
     "frozen": true
    }
   },
   "source": [
    "# TP4 : Problème de découpe"
   ]
  },
  {
   "cell_type": "code",
   "execution_count": 2,
   "metadata": {},
   "outputs": [],
   "source": [
    "# Librairies à importer pour utiliser JuMP avec le solver GLPK\n",
    "using JuMP\n",
    "using GLPK\n",
    "\n",
    "# Définition de constantes pour le statut de résolution du problème\n",
    "const OPTIMAL = JuMP.MathOptInterface.OPTIMAL\n",
    "const INFEASIBLE = JuMP.MathOptInterface.INFEASIBLE\n",
    "const UNBOUNDED = JuMP.MathOptInterface.DUAL_INFEASIBLE;"
   ]
  },
  {
   "cell_type": "markdown",
   "metadata": {
    "deletable": false,
    "editable": false,
    "run_control": {
     "frozen": true
    },
    "tags": []
   },
   "source": [
    "L'entreprise RoLo fabrique des rouleaux d’étoffe de 240 cm de large et de 100 m de long.\n",
    "Ses clients lui commandent des rouleaux de 100 m de long, mais dont les largeurs sont variables. \n",
    "\n",
    "\n",
    "Les commandes immédiates sont les suivantes :\n",
    "\n",
    "Nb de rouleaux | Largeur en cm\n",
    "---------------|-----------------\n",
    "1 | 110\n",
    "2 | 90\n",
    "3 | 60\n",
    "\n",
    "Comment découper les rouleaux de 240 cm de large de manière à minimiser les chutes ?\n",
    "\n",
    "\n",
    "## Exercice 1\n",
    "\n",
    "Modéliser et résoudre ce problème en JuMP.\n",
    "\n",
    "Les contraintes :\n",
    "* taille de rouleaux : on ne peut découper plus que la largeur d’un rouleau $p$,\n",
    "* satisfaction de la demande.\n",
    "\n",
    "La fonction objectif : On cherche à minimiser le nombre de rouleaux découpés.\n",
    "\n",
    "*Indication :* Il y a deux familles de variables à introduire.\n",
    "\n",
    "*Remarque :* On peut supposer que l'on a au maximum 3 rouleaux car les découpes d'une même taille tiennent dans un même rouleau.\n"
   ]
  },
  {
   "cell_type": "code",
   "execution_count": 25,
   "metadata": {
    "tags": [
     "answer"
    ]
   },
   "outputs": [
    {
     "data": {
      "text/latex": [
       "$$ \\begin{aligned}\n",
       "\\min\\quad & y_{1} + y_{2} + y_{3}\\\\\n",
       "\\text{Subject to} \\quad & x_{1,1} + x_{1,2} + x_{1,3} = 1.0\\\\\n",
       " & x_{2,1} + x_{2,2} + x_{2,3} = 2.0\\\\\n",
       " & x_{3,1} + x_{3,2} + x_{3,3} = 3.0\\\\\n",
       " & 110 x_{1,1} + 90 x_{2,1} + 60 x_{3,1} - 240 y_{1} \\leq 0.0\\\\\n",
       " & 110 x_{1,2} + 90 x_{2,2} + 60 x_{3,2} - 240 y_{2} \\leq 0.0\\\\\n",
       " & 110 x_{1,3} + 90 x_{2,3} + 60 x_{3,3} - 240 y_{3} \\leq 0.0\\\\\n",
       " & x_{1,1} \\geq 0.0\\\\\n",
       " & x_{2,1} \\geq 0.0\\\\\n",
       " & x_{3,1} \\geq 0.0\\\\\n",
       " & x_{1,2} \\geq 0.0\\\\\n",
       " & x_{2,2} \\geq 0.0\\\\\n",
       " & x_{3,2} \\geq 0.0\\\\\n",
       " & x_{1,3} \\geq 0.0\\\\\n",
       " & x_{2,3} \\geq 0.0\\\\\n",
       " & x_{3,3} \\geq 0.0\\\\\n",
       " & x_{1,1} \\in \\mathbb{Z}\\\\\n",
       " & x_{2,1} \\in \\mathbb{Z}\\\\\n",
       " & x_{3,1} \\in \\mathbb{Z}\\\\\n",
       " & x_{1,2} \\in \\mathbb{Z}\\\\\n",
       " & x_{2,2} \\in \\mathbb{Z}\\\\\n",
       " & x_{3,2} \\in \\mathbb{Z}\\\\\n",
       " & x_{1,3} \\in \\mathbb{Z}\\\\\n",
       " & x_{2,3} \\in \\mathbb{Z}\\\\\n",
       " & x_{3,3} \\in \\mathbb{Z}\\\\\n",
       " & y_{1} \\in \\{0, 1\\}\\\\\n",
       " & y_{2} \\in \\{0, 1\\}\\\\\n",
       " & y_{3} \\in \\{0, 1\\}\\\\\n",
       "\\end{aligned} $$"
      ]
     },
     "metadata": {},
     "output_type": "display_data"
    }
   ],
   "source": [
    "############################## \n",
    "#   Saisir votre code ici.   #\n",
    "##############################\n",
    "# Da so la TP2 - 2 question dau\n",
    "# Question 3 tP note\n",
    "largeur = [110 90 60];\n",
    "\n",
    "m = Model(GLPK.Optimizer)\n",
    "\n",
    "# x[i,r] - nombre de rouleaux de type i découpés dans le rouleau r\n",
    "@variable(m, x[1:3, 1:3] >= 0, Int)\n",
    "@variable(m, y[1:3], Bin)\n",
    "\n",
    "@objective(m, Min, sum(y[1:3]))\n",
    "\n",
    "# contraint satisfait la demande\n",
    "for i in 1:3\n",
    "   @constraint(m, sum(x[i, j] for j in 1:3) == i) \n",
    "end\n",
    "\n",
    "# constraint depasser 240cm\n",
    "for j in 1:3\n",
    "   @constraint(m, sum(x[i,j]*largeur[i] for i in 1:3) <= 240*y[j]) \n",
    "end\n",
    "\n",
    "print(m)\n",
    "\n"
   ]
  },
  {
   "cell_type": "code",
   "execution_count": 26,
   "metadata": {},
   "outputs": [
    {
     "name": "stdout",
     "output_type": "stream",
     "text": [
      "optimale = 2.0\n",
      "Solution optimale :\n",
      "Type 1 for rouleau 1 : 1.0\n",
      "Type 1 for rouleau 2 : 0.0\n",
      "Type 1 for rouleau 3 : 0.0\n",
      "Type 2 for rouleau 1 : 0.0\n",
      "Type 2 for rouleau 2 : 2.0\n",
      "Type 2 for rouleau 3 : 0.0\n",
      "Type 3 for rouleau 1 : 2.0\n",
      "Type 3 for rouleau 2 : 1.0\n",
      "Type 3 for rouleau 3 : 0.0\n",
      "Who use rouleau 1: 1.0\n",
      "Who use rouleau 2: 1.0\n",
      "Who use rouleau 3: 0.0\n"
     ]
    }
   ],
   "source": [
    "# For conclusion\n",
    "\n",
    "optimize!(m)\n",
    "\n",
    "status = termination_status(m)\n",
    "\n",
    "if status == INFEASIBLE\n",
    "    println(\"Le problème n'est pas réalisable\")\n",
    "elseif status == UNBOUNDED\n",
    "    println(\"Le problème est non borné\")\n",
    "elseif status == OPTIMAL\n",
    "    println(\"optimale = \", JuMP.objective_value(m))\n",
    "    println(\"Solution optimale :\")\n",
    "    for i in 1:3, j in 1:3\n",
    "       println(\"Type $i for rouleau $j : \", JuMP.value(x[i,j])) \n",
    "    end\n",
    "    for i in 1:3\n",
    "       println(\"Who use rouleau $i: \", JuMP.value(y[i])) \n",
    "    end\n",
    "else\n",
    "    println(\"Problème lors de la résolution\")\n",
    "end"
   ]
  },
  {
   "cell_type": "markdown",
   "metadata": {
    "deletable": false,
    "editable": false,
    "run_control": {
     "frozen": true
    }
   },
   "source": [
    "## Exercice 2\n",
    "\n",
    "### Question 1\n",
    "\n",
    "Écrire sur feuille une formulation générique du problème de découpe minimisant le nombre de chutes, c'est-à-dire une formulation qui dépend des paramètres suivants :\n",
    "\n",
    "Les données génériques :\n",
    "* $L$ : la largeur d’un rouleau à découper\n",
    "* $n$ : le nombre de types de rouleaux commandés\n",
    "* $\\ell_i$ : la largeur du rouleau de type $i$\n",
    "* $b_i$ : la quantité de rouleaux de type $i$ demandés\n",
    "* $P$ : le nombre total de rouleaux de taille $240\\times100$ disponibles. On suppose que le nombre de rouleaux disponible est suffisant pour satisfaire la demande (c'est-à-dire $P = \\sum_{i=1}^k b_i$).\n",
    "\n",
    "Les contraintes :\n",
    "* taille de rouleaux : on ne peut découper plus que la largeur d’un rouleau $p$,\n",
    "* satisfaction de la demande.\n",
    "\n",
    "La fonction objectif : On cherche à minimiser le nombre de rouleaux découpés.\n",
    "\n",
    "Indication : Il y a deux familles de variables à introduire."
   ]
  },
  {
   "cell_type": "markdown",
   "metadata": {
    "deletable": false,
    "editable": false,
    "run_control": {
     "frozen": true
    }
   },
   "source": [
    "### Question 2\n",
    "\n",
    "Écrire cette formulation générique en JuMP. Afficher le découpage de chaque rouleau de manière claire."
   ]
  },
  {
   "cell_type": "code",
   "execution_count": 3,
   "metadata": {
    "tags": [
     "answer"
    ]
   },
   "outputs": [],
   "source": [
    "############################## \n",
    "#   Saisir votre code ici.   #\n",
    "##############################"
   ]
  },
  {
   "cell_type": "markdown",
   "metadata": {
    "deletable": false,
    "editable": false,
    "run_control": {
     "frozen": true
    }
   },
   "source": [
    "### Question 3\n",
    "\n",
    "Vérifiez que votre formulation est correcte en retrouvant les résultats de la Question 1."
   ]
  },
  {
   "cell_type": "code",
   "execution_count": 4,
   "metadata": {
    "tags": [
     "answer"
    ]
   },
   "outputs": [],
   "source": [
    "############################## \n",
    "#   Saisir votre code ici.   #\n",
    "##############################"
   ]
  },
  {
   "cell_type": "markdown",
   "metadata": {
    "deletable": false,
    "editable": false,
    "run_control": {
     "frozen": true
    }
   },
   "source": [
    "### Question 4\n",
    "\n",
    "Résoudre le problème donné par les valeurs suivantes : "
   ]
  },
  {
   "cell_type": "code",
   "execution_count": 28,
   "metadata": {},
   "outputs": [
    {
     "data": {
      "text/plain": [
       "16"
      ]
     },
     "execution_count": 28,
     "metadata": {},
     "output_type": "execute_result"
    }
   ],
   "source": [
    "L = 240\n",
    "n = 5\n",
    "l = [110;55;75;90;45]\n",
    "b = [3;5;2;1;5]\n",
    "P = 16"
   ]
  },
  {
   "cell_type": "code",
   "execution_count": 5,
   "metadata": {
    "tags": [
     "answer"
    ]
   },
   "outputs": [],
   "source": [
    "############################## \n",
    "#   Saisir votre code ici.   #\n",
    "##############################"
   ]
  },
  {
   "cell_type": "code",
   "execution_count": null,
   "metadata": {},
   "outputs": [],
   "source": []
  }
 ],
 "metadata": {
  "@webio": {
   "lastCommId": "340e52c35fbf4c9186c35f99639218b0",
   "lastKernelId": "679fe7ec-33f0-498d-a4d0-d779ccbbb42f"
  },
  "anaconda-cloud": {},
  "kernelspec": {
   "display_name": "Julia 1.8.2",
   "language": "julia",
   "name": "julia-1.8"
  },
  "language_info": {
   "file_extension": ".jl",
   "mimetype": "application/julia",
   "name": "julia",
   "version": "1.8.2"
  },
  "toc": {
   "base_numbering": 1,
   "nav_menu": {},
   "number_sections": true,
   "sideBar": true,
   "skip_h1_title": true,
   "title_cell": "Table des matières",
   "title_sidebar": "Table des matières",
   "toc_cell": false,
   "toc_position": {},
   "toc_section_display": true,
   "toc_window_display": false
  },
  "varInspector": {
   "cols": {
    "lenName": 16,
    "lenType": 16,
    "lenVar": 40
   },
   "kernels_config": {
    "python": {
     "delete_cmd_postfix": "",
     "delete_cmd_prefix": "del ",
     "library": "var_list.py",
     "varRefreshCmd": "print(var_dic_list())"
    },
    "r": {
     "delete_cmd_postfix": ") ",
     "delete_cmd_prefix": "rm(",
     "library": "var_list.r",
     "varRefreshCmd": "cat(var_dic_list()) "
    }
   },
   "types_to_exclude": [
    "module",
    "function",
    "builtin_function_or_method",
    "instance",
    "_Feature"
   ],
   "window_display": false
  }
 },
 "nbformat": 4,
 "nbformat_minor": 4
}
