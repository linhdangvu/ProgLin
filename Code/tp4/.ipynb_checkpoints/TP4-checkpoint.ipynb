{
 "cells": [
  {
   "cell_type": "markdown",
   "metadata": {
    "collapsed": true,
    "deletable": false,
    "editable": false,
    "run_control": {
     "frozen": true
    }
   },
   "source": [
    "# TP4 : Problème de découpe"
   ]
  },
  {
   "cell_type": "code",
   "execution_count": 15,
   "metadata": {},
   "outputs": [],
   "source": [
    "# Librairies à importer pour utiliser JuMP avec le solver GLPK\n",
    "using JuMP\n",
    "using GLPK\n",
    "\n",
    "# Définition de constantes pour le statut de résolution du problème\n",
    "const OPTIMAL = JuMP.MathOptInterface.OPTIMAL\n",
    "const INFEASIBLE = JuMP.MathOptInterface.INFEASIBLE\n",
    "const UNBOUNDED = JuMP.MathOptInterface.DUAL_INFEASIBLE;"
   ]
  },
  {
   "cell_type": "markdown",
   "metadata": {
    "collapsed": true,
    "deletable": false,
    "editable": false,
    "run_control": {
     "frozen": true
    }
   },
   "source": [
    "L'entreprise RoLo fabrique des rouleaux d’étoffe de 240 cm de large et de 100 m de long.\n",
    "Ses clients lui commandent des rouleaux de 100 m de long, mais dont les largeurs sont variables. \n",
    "\n",
    "\n",
    "Les commandes immédiates sont les suivantes :\n",
    "\n",
    "Nb de rouleaux | Largeur en cm\n",
    "---------------|-----------------\n",
    "1 | 110\n",
    "2 | 90\n",
    "3 | 60\n",
    "\n",
    "Comment découper les rouleaux de 240 cm de large de manière à minimiser les chutes ?\n",
    "\n",
    "\n",
    "## Exercice 1\n",
    "\n",
    "Modéliser et résoudre ce problème en JuMP.\n",
    "\n",
    "Les contraintes :\n",
    "* taille de rouleaux : on ne peut découper plus que la largeur d’un rouleau $p$,\n",
    "* satisfaction de la demande.\n",
    "\n",
    "La fonction objectif : On cherche à minimiser le nombre de rouleaux découpés.\n",
    "\n",
    "*Indication :* Il y a deux familles de variables à introduire.\n",
    "\n",
    "*Remarque :* On peut supposer que l'on a au maximum 3 rouleaux car les découpes d'une même taille tiennent dans un même rouleau.\n"
   ]
  },
  {
   "cell_type": "code",
   "execution_count": 1,
   "metadata": {
    "tags": [
     "answer"
    ]
   },
   "outputs": [],
   "source": [
    "############################## \n",
    "#   Saisir votre code ici.   #\n",
    "##############################\n"
   ]
  },
  {
   "cell_type": "markdown",
   "metadata": {
    "deletable": false,
    "editable": false,
    "run_control": {
     "frozen": true
    }
   },
   "source": [
    "## Exercice 2\n",
    "\n",
    "### Question 1\n",
    "\n",
    "Écrire sur feuille une formulation générique du problème de découpe minimisant le nombre de chutes, c'est-à-dire une formulation qui dépend des paramètres suivants :\n",
    "\n",
    "Les données génériques :\n",
    "* $L$ : la largeur d’un rouleau à découper\n",
    "* $n$ : le nombre de types de rouleaux commandés\n",
    "* $\\ell_i$ : la largeur du rouleau de type $i$\n",
    "* $b_i$ : la quantité de rouleaux de type $i$ demandés\n",
    "* $P$ : le nombre total de rouleaux de taille $240\\times100$ disponibles. On suppose que le nombre de rouleaux disponible est suffisant pour satisfaire la demande (c'est-à-dire $P = \\sum_{i=1}^k b_i$).\n",
    "\n",
    "Les contraintes :\n",
    "* taille de rouleaux : on ne peut découper plus que la largeur d’un rouleau $p$,\n",
    "* satisfaction de la demande.\n",
    "\n",
    "La fonction objectif : On cherche à minimiser le nombre de rouleaux découpés.\n",
    "\n",
    "Indication : Il y a deux familles de variables à introduire."
   ]
  },
  {
   "cell_type": "markdown",
   "metadata": {
    "deletable": false,
    "editable": false,
    "run_control": {
     "frozen": true
    }
   },
   "source": [
    "### Question 2\n",
    "\n",
    "Écrire cette formulation générique en JuMP. Afficher le découpage de chaque rouleau de manière claire."
   ]
  },
  {
   "cell_type": "code",
   "execution_count": 3,
   "metadata": {
    "tags": [
     "answer"
    ]
   },
   "outputs": [],
   "source": [
    "############################## \n",
    "#   Saisir votre code ici.   #\n",
    "##############################"
   ]
  },
  {
   "cell_type": "markdown",
   "metadata": {
    "deletable": false,
    "editable": false,
    "run_control": {
     "frozen": true
    }
   },
   "source": [
    "### Question 3\n",
    "\n",
    "Vérifiez que votre formulation est correcte en retrouvant les résultats de la Question 1."
   ]
  },
  {
   "cell_type": "code",
   "execution_count": 4,
   "metadata": {
    "tags": [
     "answer"
    ]
   },
   "outputs": [],
   "source": [
    "############################## \n",
    "#   Saisir votre code ici.   #\n",
    "##############################"
   ]
  },
  {
   "cell_type": "markdown",
   "metadata": {
    "deletable": false,
    "editable": false,
    "run_control": {
     "frozen": true
    }
   },
   "source": [
    "### Question 4\n",
    "\n",
    "Résoudre le problème donné par les valeurs suivantes : "
   ]
  },
  {
   "cell_type": "code",
   "execution_count": 28,
   "metadata": {},
   "outputs": [
    {
     "data": {
      "text/plain": [
       "16"
      ]
     },
     "execution_count": 28,
     "metadata": {},
     "output_type": "execute_result"
    }
   ],
   "source": [
    "L = 240\n",
    "n = 5\n",
    "l = [110;55;75;90;45]\n",
    "b = [3;5;2;1;5]\n",
    "P = 16"
   ]
  },
  {
   "cell_type": "code",
   "execution_count": 5,
   "metadata": {
    "tags": [
     "answer"
    ]
   },
   "outputs": [],
   "source": [
    "############################## \n",
    "#   Saisir votre code ici.   #\n",
    "##############################"
   ]
  },
  {
   "cell_type": "code",
   "execution_count": null,
   "metadata": {},
   "outputs": [],
   "source": []
  }
 ],
 "metadata": {
  "@webio": {
   "lastCommId": "340e52c35fbf4c9186c35f99639218b0",
   "lastKernelId": "679fe7ec-33f0-498d-a4d0-d779ccbbb42f"
  },
  "anaconda-cloud": {},
  "kernelspec": {
   "display_name": "Julia 1.5.3",
   "language": "julia",
   "name": "julia-1.5"
  },
  "language_info": {
   "file_extension": ".jl",
   "mimetype": "application/julia",
   "name": "julia",
   "version": "1.5.3"
  },
  "toc": {
   "base_numbering": 1,
   "nav_menu": {},
   "number_sections": true,
   "sideBar": true,
   "skip_h1_title": true,
   "title_cell": "Table des matières",
   "title_sidebar": "Table des matières",
   "toc_cell": false,
   "toc_position": {},
   "toc_section_display": true,
   "toc_window_display": false
  },
  "varInspector": {
   "cols": {
    "lenName": 16,
    "lenType": 16,
    "lenVar": 40
   },
   "kernels_config": {
    "python": {
     "delete_cmd_postfix": "",
     "delete_cmd_prefix": "del ",
     "library": "var_list.py",
     "varRefreshCmd": "print(var_dic_list())"
    },
    "r": {
     "delete_cmd_postfix": ") ",
     "delete_cmd_prefix": "rm(",
     "library": "var_list.r",
     "varRefreshCmd": "cat(var_dic_list()) "
    }
   },
   "types_to_exclude": [
    "module",
    "function",
    "builtin_function_or_method",
    "instance",
    "_Feature"
   ],
   "window_display": false
  }
 },
 "nbformat": 4,
 "nbformat_minor": 2
}
