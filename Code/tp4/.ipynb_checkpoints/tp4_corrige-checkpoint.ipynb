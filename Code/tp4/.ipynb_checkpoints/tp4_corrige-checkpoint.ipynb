{
 "cells": [
  {
   "cell_type": "markdown",
   "metadata": {
    "collapsed": true,
    "deletable": false,
    "editable": false,
    "run_control": {
     "frozen": true
    }
   },
   "source": [
    "# TP4 : Problème de découpe - Correction"
   ]
  },
  {
   "cell_type": "code",
   "execution_count": 1,
   "metadata": {},
   "outputs": [],
   "source": [
    "# Librairies à importer pour utiliser JuMP avec le solver GLPK\n",
    "using JuMP\n",
    "using GLPK\n",
    "\n",
    "# Définition de constantes pour le statut de résolution du problème\n",
    "const OPTIMAL = JuMP.MathOptInterface.OPTIMAL\n",
    "const INFEASIBLE = JuMP.MathOptInterface.INFEASIBLE\n",
    "const UNBOUNDED = JuMP.MathOptInterface.DUAL_INFEASIBLE;"
   ]
  },
  {
   "cell_type": "markdown",
   "metadata": {
    "collapsed": true,
    "deletable": false,
    "editable": false,
    "run_control": {
     "frozen": true
    }
   },
   "source": [
    "L'entreprise RoLo fabrique des rouleaux d’étoffe de 240 cm de large et de 100 m de long.\n",
    "Ses clients lui commandent des rouleaux de 100 m de long, mais dont les largeurs sont variables. \n",
    "\n",
    "\n",
    "Les commandes immédiates sont les suivantes :\n",
    "\n",
    "Nb de rouleaux | Largeur en cm\n",
    "---------------|-----------------\n",
    "1 | 110\n",
    "2 | 90\n",
    "3 | 60\n",
    "\n",
    "Comment découper les rouleaux de 240 cm de large de manière à minimiser les chutes ?\n",
    "\n",
    "\n",
    "## Exercice 1\n",
    "\n",
    "Modéliser et résoudre ce problème en JuMP.\n",
    "\n",
    "Les contraintes :\n",
    "* taille de rouleaux : on ne peut découper plus que la largeur d’un rouleau $p$,\n",
    "* satisfaction de la demande.\n",
    "\n",
    "La fonction objectif : On cherche à minimiser le nombre de rouleaux découpés.\n",
    "\n",
    "*Indication :* Il y a deux familles de variables à introduire.\n",
    "\n",
    "*Remarque :* On peut supposer que l'on a au maximum 3 rouleaux car les découpes d'une même taille tiennent dans un même rouleau.\n"
   ]
  },
  {
   "cell_type": "code",
   "execution_count": 2,
   "metadata": {
    "tags": [
     "answer"
    ]
   },
   "outputs": [
    {
     "name": "stdout",
     "output_type": "stream",
     "text": [
      "le nombre minimum de rouleaux est : 2.0\n"
     ]
    }
   ],
   "source": [
    "##################\n",
    "#   Correction   #\n",
    "##################\n",
    "\n",
    "\n",
    "function optimise_decoupe1()\n",
    "\n",
    "    decoupe = Model(GLPK.Optimizer)\n",
    "\n",
    "    #variables y[p] dans 0,1 : est-ce que j'utilise le rouleau p pour p=1,...P\n",
    "    @variable(decoupe, y[1:3], Bin)\n",
    "\n",
    "    #variable x[i,p] entières : combien de rouleaux de type i je découpe dans le rouleau p (i=1,..n, p=1,..P)\n",
    "    @variable(decoupe, x[1:3,1:3] >= 0, Int)\n",
    "\n",
    "    #La fonction objectif : On cherche à minimiser le nombre de rouleaux decoupes.\n",
    "    @objective(decoupe, Min, sum(y))\n",
    "\n",
    "    #contrainte taille de rouleaux\n",
    "    for j=1:3\n",
    "        @constraint(decoupe, 110x[1,j] + 90x[2,j] + 60x[3,j] <= 240*y[j])\n",
    "    end\n",
    "\n",
    "    #contrainte satisfaction de la demande\n",
    "    @constraint(decoupe, x[1,1] + x[1,2] + x[1,3] == 1)\n",
    "    @constraint(decoupe, x[2,1] + x[2,2] + x[2,3] == 2)\n",
    "    @constraint(decoupe, x[3,1] + x[3,2] + x[3,3] == 3)\n",
    "\n",
    "    JuMP.optimize!(decoupe)\n",
    "\n",
    "    println(\"le nombre minimum de rouleaux est : \", objective_value(decoupe))\n",
    "end\n",
    "\n",
    "optimise_decoupe1()"
   ]
  },
  {
   "cell_type": "markdown",
   "metadata": {
    "deletable": false,
    "editable": false,
    "run_control": {
     "frozen": true
    }
   },
   "source": [
    "## Exercice 2\n",
    "\n",
    "### Question 1\n",
    "\n",
    "Écrire sur feuille une formulation générique du problème de découpe minimisant le nombre de chutes, c'est-à-dire une formulation qui dépend des paramètres suivants :\n",
    "\n",
    "Les données génériques :\n",
    "* $L$ : la largeur d’un rouleau à découper\n",
    "* $n$ : le nombre de types de rouleaux commandés\n",
    "* $\\ell_i$ : la largeur du rouleau de type $i$\n",
    "* $b_i$ : la quantité de rouleaux de type $i$ demandés\n",
    "* $P$ : le nombre total de rouleaux de taille $240\\times100$ disponibles. On suppose que le nombre de rouleaux disponible est suffisant pour satisfaire la demande (c'est-à-dire $P = \\sum_{i=1}^k b_i$).\n",
    "\n",
    "Les contraintes :\n",
    "* taille de rouleaux : on ne peut découper plus que la largeur d’un rouleau $p$,\n",
    "* satisfaction de la demande.\n",
    "\n",
    "La fonction objectif : On cherche à minimiser le nombre de rouleaux découpés.\n",
    "\n",
    "Indication : Il y a deux familles de variables à introduire."
   ]
  },
  {
   "cell_type": "markdown",
   "metadata": {
    "deletable": false,
    "editable": false,
    "run_control": {
     "frozen": true
    }
   },
   "source": [
    "### Question 2\n",
    "\n",
    "Écrire cette formulation générique en JuMP. Afficher le découpage de chaque rouleau de manière claire."
   ]
  },
  {
   "cell_type": "code",
   "execution_count": 3,
   "metadata": {
    "tags": [
     "answer"
    ]
   },
   "outputs": [
    {
     "data": {
      "text/plain": [
       "optimise_decoupe (generic function with 1 method)"
      ]
     },
     "execution_count": 3,
     "metadata": {},
     "output_type": "execute_result"
    }
   ],
   "source": [
    "##################\n",
    "#   Correction   #\n",
    "##################\n",
    "\n",
    "\n",
    "function optimise_decoupe(L,n,l,b,P)\n",
    "\n",
    "    decoupe = Model(GLPK.Optimizer)\n",
    "\n",
    "    #variables y[p] dans 0,1 : est-ce que j'utilise le rouleau p pour p=1,...P\n",
    "    @variable(decoupe, y[1:P], Bin)\n",
    "\n",
    "    #varbiale x[i,p] entières : combien de rouleaux de type i je découpe dans le rouleau p (i=1,..n, p=1,..P)\n",
    "    @variable(decoupe, 0 <= x[1:n,1:P], Int)\n",
    "\n",
    "    #La fonction objectif : On cherche à minimiser le nombre de rouleaux decoupes.\n",
    "    @objective(decoupe, Min, sum(y[:]))\n",
    "\n",
    "    #contrainte taille de rouleaux\n",
    "    for p in 1:P\n",
    "        @constraint(decoupe, sum(l[i]*x[i,p] for i in 1:n) <= L*y[p])\n",
    "    end    \n",
    "\n",
    "    #contrainte satisfaction de la demande\n",
    "    for i in 1:n\n",
    "        @constraint(decoupe, sum(x[i,:]) == b[i])\n",
    "    end  \n",
    "\n",
    "    JuMP.optimize!(decoupe)\n",
    "\n",
    "    println(\"le nombre minimum de rouleaux est : \", objective_value(decoupe))\n",
    "        \n",
    "    #Affichage du résultat\n",
    "        \n",
    "        for p in 1:P\n",
    "            if JuMP.value(y[p]) != 0\n",
    "                println(\"le rouleau $p est découpé en : \")\n",
    "                for i in 1:n\n",
    "                    if JuMP.value(x[i,p])!=0\n",
    "                        println(\"\\t\", JuMP.value(x[i,p]),\" de type $i\")\n",
    "                    end\n",
    "                end\n",
    "            end\n",
    "        end      \n",
    "end"
   ]
  },
  {
   "cell_type": "markdown",
   "metadata": {
    "deletable": false,
    "editable": false,
    "run_control": {
     "frozen": true
    }
   },
   "source": [
    "### Question 3\n",
    "\n",
    "Vérifiez que votre formulation est correcte en retrouvant les résultats de la Question 1."
   ]
  },
  {
   "cell_type": "code",
   "execution_count": 4,
   "metadata": {
    "tags": [
     "answer"
    ]
   },
   "outputs": [
    {
     "name": "stdout",
     "output_type": "stream",
     "text": [
      "le nombre minimum de rouleaux est : 2.0\n",
      "le rouleau 1 est découpé en : \n",
      "\t1.0 de type 1\n",
      "\t2.0 de type 3\n",
      "le rouleau 2 est découpé en : \n",
      "\t2.0 de type 2\n",
      "\t1.0 de type 3\n"
     ]
    }
   ],
   "source": [
    "##################\n",
    "#   Correction   #\n",
    "##################\n",
    "\n",
    "\n",
    "L = 240\n",
    "n = 3\n",
    "l = [110;90;60]\n",
    "b = [1;2;3]\n",
    "P = 3\n",
    "\n",
    "optimise_decoupe(L,n,l,b,P)"
   ]
  },
  {
   "cell_type": "markdown",
   "metadata": {
    "deletable": false,
    "editable": false,
    "run_control": {
     "frozen": true
    }
   },
   "source": [
    "### Question 4\n",
    "\n",
    "Résoudre le problème donné par les valeurs suivantes : "
   ]
  },
  {
   "cell_type": "code",
   "execution_count": 5,
   "metadata": {},
   "outputs": [
    {
     "data": {
      "text/plain": [
       "16"
      ]
     },
     "execution_count": 5,
     "metadata": {},
     "output_type": "execute_result"
    }
   ],
   "source": [
    "L = 240\n",
    "n = 5\n",
    "l = [110;55;75;90;45]\n",
    "b = [3;5;2;1;5]\n",
    "P = 16"
   ]
  },
  {
   "cell_type": "code",
   "execution_count": 6,
   "metadata": {
    "tags": [
     "answer"
    ]
   },
   "outputs": [
    {
     "name": "stdout",
     "output_type": "stream",
     "text": [
      "le nombre minimum de rouleaux est : 5.0\n",
      "le rouleau 1 est découpé en : \n",
      "\t2.0 de type 1\n",
      "le rouleau 2 est découpé en : \n",
      "\t5.0 de type 5\n",
      "le rouleau 3 est découpé en : \n",
      "\t4.0 de type 2\n",
      "le rouleau 4 est découpé en : \n",
      "\t1.0 de type 2\n",
      "\t2.0 de type 3\n",
      "le rouleau 5 est découpé en : \n",
      "\t1.0 de type 1\n",
      "\t1.0 de type 4\n"
     ]
    }
   ],
   "source": [
    "##################\n",
    "#   Correction   #\n",
    "##################\n",
    "\n",
    "\n",
    "optimise_decoupe(L,n,l,b,P)"
   ]
  },
  {
   "cell_type": "code",
   "execution_count": null,
   "metadata": {},
   "outputs": [],
   "source": []
  }
 ],
 "metadata": {
  "@webio": {
   "lastCommId": "b7b71d40322c4a09a74c7666435c871b",
   "lastKernelId": "c1b2cf40-9333-48d0-9009-7e759e3dcd10"
  },
  "anaconda-cloud": {},
  "kernelspec": {
   "display_name": "Julia 1.5.3",
   "language": "julia",
   "name": "julia-1.5"
  },
  "language_info": {
   "file_extension": ".jl",
   "mimetype": "application/julia",
   "name": "julia",
   "version": "1.5.3"
  },
  "toc": {
   "base_numbering": 1,
   "nav_menu": {},
   "number_sections": true,
   "sideBar": true,
   "skip_h1_title": true,
   "title_cell": "Table des matières",
   "title_sidebar": "Table des matières",
   "toc_cell": false,
   "toc_position": {},
   "toc_section_display": true,
   "toc_window_display": false
  },
  "varInspector": {
   "cols": {
    "lenName": 16,
    "lenType": 16,
    "lenVar": 40
   },
   "kernels_config": {
    "python": {
     "delete_cmd_postfix": "",
     "delete_cmd_prefix": "del ",
     "library": "var_list.py",
     "varRefreshCmd": "print(var_dic_list())"
    },
    "r": {
     "delete_cmd_postfix": ") ",
     "delete_cmd_prefix": "rm(",
     "library": "var_list.r",
     "varRefreshCmd": "cat(var_dic_list()) "
    }
   },
   "types_to_exclude": [
    "module",
    "function",
    "builtin_function_or_method",
    "instance",
    "_Feature"
   ],
   "window_display": false
  }
 },
 "nbformat": 4,
 "nbformat_minor": 2
}
