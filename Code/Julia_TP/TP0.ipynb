{
 "cells": [
  {
   "cell_type": "markdown",
   "metadata": {
    "deletable": false,
    "editable": false,
    "run_control": {
     "frozen": true
    }
   },
   "source": [
    "# Introduction à Julia\n",
    "\n",
    "Julia est un langage à la syntaxe proche des langages Python et Mathlab. Il permet d'écrire facilement et rapidement des algorithmes. De plus, il est directement compilé en langage C, ce qui lui permet de s'exécuter très rapidement.\n",
    "\n",
    "Pour plus d'information, vous pouvez consulter les [tutoriels](https://julialang.org/learning/) sur le site de Julialang.\n",
    "\n",
    "## Exercice 1 : Premiers pas\n",
    "\n",
    "Pour exécuter du code Julia, nous écrirons du code dans une cellule puis exécuterons  ce code. Exécuter le code de la cellule suivante (pour compiler, il faut appuyer sur Ctrl-Enter)."
   ]
  },
  {
   "cell_type": "code",
   "execution_count": null,
   "metadata": {},
   "outputs": [
    {
     "name": "stdout",
     "output_type": "stream",
     "text": [
      "Julia est)GMb')* un super langage !!!!\n",
      "Même pas de problème avec les accents...\n",
      "Ni même avec les caractères unicode ☺ (ʘ‿ʘ)\n"
     ]
    }
   ],
   "source": [
    "langage = \"Ju\" * \"lia\"\n",
    "println(langage, \" est)GMb')* un super langage !!!!\")\n",
    "println(\"Même pas de problème avec les accents...\n",
    "Ni même avec les caractères unicode ☺ (ʘ‿ʘ)\")"
   ]
  },
  {
   "cell_type": "code",
   "execution_count": null,
   "metadata": {},
   "outputs": [],
   "source": []
  },
  {
   "cell_type": "code",
   "execution_count": null,
   "metadata": {},
   "outputs": [],
   "source": []
  },
  {
   "cell_type": "markdown",
   "metadata": {
    "deletable": false,
    "editable": false,
    "run_control": {
     "frozen": true
    }
   },
   "source": [
    "## Exercice 2 : Boucles\n",
    "\n",
    "Ajouter à la fin une boucle affichant les carrés des nombres 5 à 12."
   ]
  },
  {
   "cell_type": "code",
   "execution_count": null,
   "metadata": {},
   "outputs": [],
   "source": [
    "#Avec une boucle for\n",
    "for i = 1:5\n",
    "    println(\"i vaut \", i, \" ! \")\n",
    "end\n",
    "\n",
    "#=\n",
    "        Avec \n",
    "        une \n",
    "        boucle while\n",
    "=#\n",
    "\n",
    "i = 1\n",
    "while i <= 5\n",
    "    println(\"i vaut \", i , \" ! \")\n",
    "    i+=1\n",
    "end\n"
   ]
  },
  {
   "cell_type": "markdown",
   "metadata": {
    "deletable": false,
    "editable": false,
    "run_control": {
     "frozen": true
    }
   },
   "source": [
    "## Exercice 3 : Tableaux\n",
    "\n",
    "Les tableaux contiennent que des valeurs de même type (comme en C) et sont **indexés à partir de 1**, pas de 0 (pas du tout comme en C) !\n",
    "\n",
    "Écrire un algorithme à la fin permettant de rechercher dans le tableau `nombres` le plus grand entier."
   ]
  },
  {
   "cell_type": "code",
   "execution_count": null,
   "metadata": {},
   "outputs": [],
   "source": [
    "#Affichage du tableau prénoms\n",
    "prénoms = [\"Alice\", \"Bob\", \"Charlie\"]\n",
    "for p in prénoms\n",
    "    println(p)\n",
    "end\n",
    "\n",
    "nombres = [12, 43, 32, 96, 73, 76]\n",
    "if length(nombres) > 5\n",
    "    println(\"Ce tableau contient plus de 5 nombres\")\n",
    "else\n",
    "    println(\"C'est un petit tableau d'au plus 5 nombres\")\n",
    "end\n",
    "\n",
    "#Parcours du tableau nombres\n",
    "for nb in nombres\n",
    "    println(\"Nombre : \", nb)\n",
    "end\n",
    "\n",
    "#Boucle si l'on a besoin des indices du tableau\n",
    "for i in 1:length(nombres)\n",
    "    println(\"Nombre numéro \", i, \" = \", nombres[i])\n",
    "end"
   ]
  },
  {
   "cell_type": "markdown",
   "metadata": {
    "deletable": false,
    "editable": false,
    "run_control": {
     "frozen": true
    }
   },
   "source": [
    "## Exercice 4 : Fonctions\n",
    "\n",
    "Voici quelques exemples de fonctions illustrant les propriétés des fonctions dans le langage Julia.\n",
    "\n",
    "Définir à la suite une fonction maxiTab prenant en paramètre un tableau et retournant la valeur maximum de ce tableau. Appeler cette fonction avec le tableau `nombres` défini précédemment."
   ]
  },
  {
   "cell_type": "code",
   "execution_count": null,
   "metadata": {},
   "outputs": [],
   "source": [
    "# Fonction retournant x²-1\n",
    "function carreMoinsUn(x)\n",
    "    return x^2 - 1\n",
    "end\n",
    "println(\"carreMoinsUn(3) = \", carreMoinsUn(3))\n",
    "\n",
    "function modifiePasInt(x)\n",
    "    x = x+1\n",
    "end\n",
    "\n",
    "a = 12\n",
    "modifiePasInt(a)\n",
    "println(\"valeur de a après appel de la fonction modifie = \", a)\n",
    "\n",
    "function modifieTab(tab)\n",
    "    push!(tab,12)\n",
    "end\n",
    "t = [23, 34, 45]\n",
    "modifieTab(t)\n",
    "println(\"t = \", t)\n",
    "\n",
    "function valeursRetour(x,y)\n",
    "    return x+y, x-y, x*y, x/y\n",
    "end\n",
    "\n",
    "add, sous, mult, divi = valeursRetour(1,2)\n",
    "println(\"1+2 = \", add, \"\\n1-2 = \", sous, \"\\n1*2 = $mult \\n1/2 = $(divi)\")\n",
    "\n",
    "function maxiTab(tab)\n",
    "    x=tab[1]\n",
    "    for e in tab\n",
    "        if x < e\n",
    "            x = e\n",
    "        end\n",
    "    end\n",
    "    return x\n",
    "end\n",
    "println(\"maxiTab = \", maxiTab(nombres))"
   ]
  }
 ],
 "metadata": {
  "@webio": {
   "lastCommId": "4041cabbcd1e416d8cad3511cff81fde",
   "lastKernelId": "7792ac66-0a19-476f-8044-cd800f2cd6ad"
  },
  "kernelspec": {
   "display_name": "Python 3 (ipykernel)",
   "language": "python",
   "name": "python3"
  },
  "language_info": {
   "codemirror_mode": {
    "name": "ipython",
    "version": 3
   },
   "file_extension": ".py",
   "mimetype": "text/x-python",
   "name": "python",
   "nbconvert_exporter": "python",
   "pygments_lexer": "ipython3",
   "version": "3.10.6"
  },
  "toc": {
   "base_numbering": 1,
   "nav_menu": {},
   "number_sections": true,
   "sideBar": true,
   "skip_h1_title": true,
   "title_cell": "Table des matières",
   "title_sidebar": "Table des matières",
   "toc_cell": false,
   "toc_position": {},
   "toc_section_display": true,
   "toc_window_display": false
  },
  "varInspector": {
   "cols": {
    "lenName": 16,
    "lenType": 16,
    "lenVar": 40
   },
   "kernels_config": {
    "python": {
     "delete_cmd_postfix": "",
     "delete_cmd_prefix": "del ",
     "library": "var_list.py",
     "varRefreshCmd": "print(var_dic_list())"
    },
    "r": {
     "delete_cmd_postfix": ") ",
     "delete_cmd_prefix": "rm(",
     "library": "var_list.r",
     "varRefreshCmd": "cat(var_dic_list()) "
    }
   },
   "types_to_exclude": [
    "module",
    "function",
    "builtin_function_or_method",
    "instance",
    "_Feature"
   ],
   "window_display": false
  },
  "vscode": {
   "interpreter": {
    "hash": "52d837803f725fe5191d6bdc0945ee5287aab13d589004744147f4d08700d04e"
   }
  }
 },
 "nbformat": 4,
 "nbformat_minor": 2
}
