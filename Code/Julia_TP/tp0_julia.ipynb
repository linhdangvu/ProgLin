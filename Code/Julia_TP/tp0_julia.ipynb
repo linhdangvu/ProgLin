{
 "cells": [
  {
   "cell_type": "code",
   "execution_count": 1,
   "id": "7c8ad1ce",
   "metadata": {},
   "outputs": [
    {
     "name": "stdout",
     "output_type": "stream",
     "text": [
      "i vaut 1 ! \n",
      "i vaut 2 ! \n",
      "i vaut 3 ! \n",
      "i vaut 4 ! \n",
      "i vaut 5 ! \n",
      "i vaut 1 ! \n",
      "i vaut 2 ! \n",
      "i vaut 3 ! \n",
      "i vaut 4 ! \n",
      "i vaut 5 ! \n"
     ]
    }
   ],
   "source": [
    "#Avec une boucle for\n",
    "for i = 1:5\n",
    "    println(\"i vaut \", i, \" ! \")\n",
    "end\n",
    "\n",
    "#=\n",
    "        Avec \n",
    "        une \n",
    "        boucle while\n",
    "=#\n",
    "\n",
    "i = 1\n",
    "while i <= 5\n",
    "    println(\"i vaut \", i , \" ! \")\n",
    "    i+=1\n",
    "end\n"
   ]
  },
  {
   "cell_type": "code",
   "execution_count": null,
   "id": "1d5ea699",
   "metadata": {},
   "outputs": [],
   "source": []
  }
 ],
 "metadata": {
  "kernelspec": {
   "display_name": "Julia 1.8.2",
   "language": "julia",
   "name": "julia-1.8"
  },
  "language_info": {
   "file_extension": ".jl",
   "mimetype": "application/julia",
   "name": "julia",
   "version": "1.8.2"
  }
 },
 "nbformat": 4,
 "nbformat_minor": 5
}
