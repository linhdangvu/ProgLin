{
 "cells": [
  {
   "cell_type": "code",
   "execution_count": 7,
   "id": "f0a42fd6",
   "metadata": {},
   "outputs": [
    {
     "name": "stdout",
     "output_type": "stream",
     "text": [
      "OPTIMAL: OPTIMAL\n",
      "INFEASIBLE: INFEASIBLE\n",
      "UNBOUNDED: DUAL_INFEASIBLE\n"
     ]
    }
   ],
   "source": [
    "# Librairies à importer pour utiliser JuMP avec le solver GLPK\n",
    "using JuMP\n",
    "using GLPK\n",
    "\n",
    "# Définition de constantes pour le statut de résolution du problème\n",
    "const OPTIMAL = JuMP.MathOptInterface.OPTIMAL\n",
    "const INFEASIBLE = JuMP.MathOptInterface.INFEASIBLE\n",
    "const UNBOUNDED = JuMP.MathOptInterface.DUAL_INFEASIBLE;\n",
    "println(\"OPTIMAL: \", OPTIMAL)\n",
    "println(\"INFEASIBLE: \", INFEASIBLE)\n",
    "println('UNBOUNDED: , UNBOUNDED)"
   ]
  },
  {
   "cell_type": "code",
   "execution_count": 18,
   "id": "b0f0a760",
   "metadata": {},
   "outputs": [
    {
     "data": {
      "text/latex": [
       "$$ \\begin{aligned}\n",
       "\\max\\quad & 4 x + 5 y\\\\\n",
       "\\text{Subject to} \\quad & x + 5 y \\leq 3.5\\\\\n",
       " & x \\geq 0.0\\\\\n",
       " & y \\geq 0.0\\\\\n",
       " & y \\leq 30.0\\\\\n",
       "\\end{aligned} $$"
      ]
     },
     "metadata": {},
     "output_type": "display_data"
    },
    {
     "name": "stdout",
     "output_type": "stream",
     "text": [
      "Optimum = 14.0\n",
      "Solution optimale :\n",
      "\t x = 3.5\n",
      "\t y = 0.0\n"
     ]
    }
   ],
   "source": [
    "# Création d'un modèle. Ce modèle fera l'interface avec le solveur GLPK\n",
    "m = Model(GLPK.Optimizer)\n",
    "\n",
    "#Création d'une variable x dans le modèle m. x est une variable continue entre 0 et 2.\n",
    "@variable(m, 0 <= x)\n",
    "\n",
    "#Création d'une deuxième variable continue y entre 0 et 30\n",
    "@variable(m, 0 <= y <= 30 )\n",
    "\n",
    "\n",
    "#Création de la fonction objective du modèle\n",
    "#=\n",
    "ATTENTION : 2 écritures possibles : 5x + 3y ou 5 * x + 3 * y.\n",
    "            Par contre, 5 x + 3 y produit une erreur\n",
    "=#\n",
    "@objective(m, Max, 4x + 5y)\n",
    "\n",
    "\n",
    "#Ajout d'une contrainte dans le modèle\n",
    "@constraint(m, x + 5y <= 3.5 ) # == # >=\n",
    "\n",
    "\n",
    "#Affichage du modèle\n",
    "print(m)\n",
    "\n",
    "#Résolution du problème d'optimisation linéaire m par le solveur GLPK\n",
    "optimize!(m)\n",
    "\n",
    "status = termination_status(m)\n",
    "\n",
    "\n",
    "if status == INFEASIBLE\n",
    "    println(\"Le problème n'est pas réalisable\")\n",
    "elseif status == UNBOUNDED\n",
    "    println(\"Le problème est non borné\")\n",
    "elseif status == OPTIMAL\n",
    "    println(\"Optimum = \", JuMP.objective_value(m))\n",
    "    println(\"Solution optimale :\")\n",
    "    println(\"\\t x = \", JuMP.value(x))\n",
    "    println(\"\\t y = \", JuMP.value(y))\n",
    "else\n",
    "    println(\"Problème lors de la résolution\")\n",
    "end"
   ]
  },
  {
   "cell_type": "code",
   "execution_count": 36,
   "id": "59ca5860",
   "metadata": {},
   "outputs": [
    {
     "data": {
      "text/latex": [
       "$$ \\begin{aligned}\n",
       "\\min\\quad & 78 x + 25 y - 54 z\\\\\n",
       "\\text{Subject to} \\quad & 20 y + 47 z = 120.0\\\\\n",
       " & 27 x - 12 y + 4 z \\geq 140.0\\\\\n",
       " & z \\geq 0.0\\\\\n",
       " & y \\in \\mathbb{Z}\\\\\n",
       " & x \\in \\{0, 1\\}\\\\\n",
       "\\end{aligned} $$"
      ]
     },
     "metadata": {},
     "output_type": "display_data"
    },
    {
     "name": "stdout",
     "output_type": "stream",
     "text": [
      "Le problème est non borné\n"
     ]
    }
   ],
   "source": [
    "# Exercise 1\n",
    "m = Model(GLPK.Optimizer)\n",
    "@variable(m, x, Bin)\n",
    "@variable(m, y, Int)\n",
    "@variable(m, z >= 0)\n",
    "\n",
    "@objective(m, Min, 78x+25y-54z)\n",
    "\n",
    "@constraint(m, 27x-12y+4z>=140)\n",
    "@constraint(m, 20y+47z==120)\n",
    "\n",
    "print(m)\n",
    "\n",
    "optimize!(m)\n",
    "\n",
    "status = termination_status(m)\n",
    "\n",
    "if status == INFEASIBLE\n",
    "    println(\"Le problème n'est pas réalisable\")\n",
    "elseif status == UNBOUNDED\n",
    "    println(\"Le problème est non borné\")\n",
    "elseif status == OPTIMAL\n",
    "    println(\"Optimum = \", JuMP.objective_value(m))\n",
    "    println(\"Solution optimale :\")\n",
    "    println(\"\\t x = \", JuMP.value(x))\n",
    "    println(\"\\t y = \", JuMP.value(y))\n",
    "else\n",
    "    println(\"Problème lors de la résolution\")\n",
    "end"
   ]
  },
  {
   "cell_type": "markdown",
   "id": "382c5303",
   "metadata": {},
   "source": []
  },
  {
   "cell_type": "code",
   "execution_count": 42,
   "id": "82c17c69",
   "metadata": {},
   "outputs": [
    {
     "data": {
      "text/latex": [
       "$$ \\begin{aligned}\n",
       "\\max\\quad & 35 F + 24 C + 39 M\\\\\n",
       "\\text{Subject to} \\quad & 10 F + 15 C + 15 M \\leq 1000.0\\\\\n",
       " & 20 F + 12 M \\leq 400.0\\\\\n",
       " & 34 C + 18 M \\leq 350.0\\\\\n",
       " & 3 F + 4 C + 6 M \\leq 245.0\\\\\n",
       " & F \\geq 0.0\\\\\n",
       " & C \\geq 0.0\\\\\n",
       " & M \\geq 0.0\\\\\n",
       "\\end{aligned} $$"
      ]
     },
     "metadata": {},
     "output_type": "display_data"
    },
    {
     "name": "stdout",
     "output_type": "stream",
     "text": [
      "Optimum = 1050.0\n",
      "Solution optimale :\n",
      "\t F = 8.333333333333334\n",
      "\t C = 0.0\n",
      "\t M = 19.444444444444443\n"
     ]
    }
   ],
   "source": [
    "#Exercise 2: Fabrique de fibre optique\n",
    "m2 = Model(GLPK.Optimizer)\n",
    "\n",
    "@variable(m2, F >= 0)\n",
    "@variable(m2, C >= 0)\n",
    "@variable(m2, M >= 0)\n",
    "\n",
    "@objective(m2, Max, 35F+24C+39M)\n",
    "\n",
    "@constraint(m2, 10F+15C+15M<=1000)\n",
    "@constraint(m2, 20F+12M<=400)\n",
    "@constraint(m2, 34C+18M<=350)\n",
    "@constraint(m2, 3F+4C+6M<=35*7)\n",
    "\n",
    "print(m2)\n",
    "\n",
    "optimize!(m2)\n",
    "\n",
    "status = termination_status(m2)\n",
    "\n",
    "if status == INFEASIBLE\n",
    "    println(\"Le problème n'est pas réalisable\")\n",
    "elseif status == UNBOUNDED\n",
    "    println(\"Le problème est non borné\")\n",
    "elseif status == OPTIMAL\n",
    "    println(\"Optimum = \", JuMP.objective_value(m))\n",
    "    println(\"Solution optimale :\")\n",
    "    println(\"\\t F = \", JuMP.value(F))\n",
    "    println(\"\\t C = \", JuMP.value(C))\n",
    "    println(\"\\t M = \", JuMP.value(M))\n",
    "else\n",
    "    println(\"Problème lors de la résolution\")\n",
    "end"
   ]
  },
  {
   "cell_type": "code",
   "execution_count": null,
   "id": "7341e79c",
   "metadata": {},
   "outputs": [],
   "source": []
  }
 ],
 "metadata": {
  "kernelspec": {
   "display_name": "Julia 1.8.2",
   "language": "julia",
   "name": "julia-1.8"
  },
  "language_info": {
   "file_extension": ".jl",
   "mimetype": "application/julia",
   "name": "julia",
   "version": "1.8.2"
  }
 },
 "nbformat": 4,
 "nbformat_minor": 5
}
