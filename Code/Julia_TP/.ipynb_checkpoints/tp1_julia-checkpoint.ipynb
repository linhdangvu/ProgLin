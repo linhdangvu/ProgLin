{
 "cells": [
  {
   "cell_type": "code",
   "execution_count": 7,
   "id": "cb3726c7",
   "metadata": {},
   "outputs": [
    {
     "name": "stdout",
     "output_type": "stream",
     "text": [
      "OPTIMAL: OPTIMAL\n",
      "INFEASIBLE: INFEASIBLE\n",
      "UNBOUNDED: DUAL_INFEASIBLE\n"
     ]
    }
   ],
   "source": [
    "# Librairies à importer pour utiliser JuMP avec le solver GLPK\n",
    "using JuMP\n",
    "using GLPK\n",
    "\n",
    "# Définition de constantes pour le statut de résolution du problème\n",
    "const OPTIMAL = JuMP.MathOptInterface.OPTIMAL\n",
    "const INFEASIBLE = JuMP.MathOptInterface.INFEASIBLE\n",
    "const UNBOUNDED = JuMP.MathOptInterface.DUAL_INFEASIBLE;\n",
    "println(\"OPTIMAL: \", OPTIMAL)\n",
    "println(\"INFEASIBLE: \", INFEASIBLE)\n",
    "println('UNBOUNDED: , UNBOUNDED)"
   ]
  },
  {
   "cell_type": "code",
   "execution_count": 18,
   "id": "9fb388c7",
   "metadata": {},
   "outputs": [
    {
     "data": {
      "text/latex": [
       "$$ \\begin{aligned}\n",
       "\\max\\quad & 4 x + 5 y\\\\\n",
       "\\text{Subject to} \\quad & x + 5 y \\leq 3.5\\\\\n",
       " & x \\geq 0.0\\\\\n",
       " & y \\geq 0.0\\\\\n",
       " & y \\leq 30.0\\\\\n",
       "\\end{aligned} $$"
      ]
     },
     "metadata": {},
     "output_type": "display_data"
    },
    {
     "name": "stdout",
     "output_type": "stream",
     "text": [
      "Optimum = 14.0\n",
      "Solution optimale :\n",
      "\t x = 3.5\n",
      "\t y = 0.0\n"
     ]
    }
   ],
   "source": [
    "# Création d'un modèle. Ce modèle fera l'interface avec le solveur GLPK\n",
    "m = Model(GLPK.Optimizer)\n",
    "\n",
    "#Création d'une variable x dans le modèle m. x est une variable continue entre 0 et 2.\n",
    "@variable(m, 0 <= x)\n",
    "\n",
    "#Création d'une deuxième variable continue y entre 0 et 30\n",
    "@variable(m, 0 <= y <= 30 )\n",
    "\n",
    "\n",
    "#Création de la fonction objective du modèle\n",
    "#=\n",
    "ATTENTION : 2 écritures possibles : 5x + 3y ou 5 * x + 3 * y.\n",
    "            Par contre, 5 x + 3 y produit une erreur\n",
    "=#\n",
    "@objective(m, Max, 4x + 5y)\n",
    "\n",
    "\n",
    "#Ajout d'une contrainte dans le modèle\n",
    "@constraint(m, x + 5y <= 3.5 ) # == # >=\n",
    "\n",
    "\n",
    "#Affichage du modèle\n",
    "print(m)\n",
    "\n",
    "#Résolution du problème d'optimisation linéaire m par le solveur GLPK\n",
    "optimize!(m)\n",
    "\n",
    "status = termination_status(m)\n",
    "\n",
    "\n",
    "if status == INFEASIBLE\n",
    "    println(\"Le problème n'est pas réalisable\")\n",
    "elseif status == UNBOUNDED\n",
    "    println(\"Le problème est non borné\")\n",
    "elseif status == OPTIMAL\n",
    "    println(\"Optimum = \", JuMP.objective_value(m))\n",
    "    println(\"Solution optimale :\")\n",
    "    println(\"\\t x = \", JuMP.value(x))\n",
    "    println(\"\\t y = \", JuMP.value(y))\n",
    "else\n",
    "    println(\"Problème lors de la résolution\")\n",
    "end"
   ]
  },
  {
   "cell_type": "code",
   "execution_count": 36,
   "id": "128c2235",
   "metadata": {},
   "outputs": [
    {
     "data": {
      "text/latex": [
       "$$ \\begin{aligned}\n",
       "\\min\\quad & 78 x + 25 y - 54 z\\\\\n",
       "\\text{Subject to} \\quad & 20 y + 47 z = 120.0\\\\\n",
       " & 27 x - 12 y + 4 z \\geq 140.0\\\\\n",
       " & z \\geq 0.0\\\\\n",
       " & y \\in \\mathbb{Z}\\\\\n",
       " & x \\in \\{0, 1\\}\\\\\n",
       "\\end{aligned} $$"
      ]
     },
     "metadata": {},
     "output_type": "display_data"
    },
    {
     "name": "stdout",
     "output_type": "stream",
     "text": [
      "Le problème est non borné\n"
     ]
    }
   ],
   "source": [
    "# Exercise 1\n",
    "m = Model(GLPK.Optimizer)\n",
    "@variable(m, x, Bin)\n",
    "@variable(m, y, Int)\n",
    "@variable(m, z >= 0)\n",
    "\n",
    "@objective(m, Min, 78x+25y-54z)\n",
    "\n",
    "@constraint(m, 27x-12y+4z>=140)\n",
    "@constraint(m, 20y+47z==120)\n",
    "\n",
    "print(m)\n",
    "\n",
    "optimize!(m)\n",
    "\n",
    "status = termination_status(m)\n",
    "\n",
    "if status == INFEASIBLE\n",
    "    println(\"Le problème n'est pas réalisable\")\n",
    "elseif status == UNBOUNDED\n",
    "    println(\"Le problème est non borné\")\n",
    "elseif status == OPTIMAL\n",
    "    println(\"Optimum = \", JuMP.objective_value(m))\n",
    "    println(\"Solution optimale :\")\n",
    "    println(\"\\t x = \", JuMP.value(x))\n",
    "    println(\"\\t y = \", JuMP.value(y))\n",
    "else\n",
    "    println(\"Problème lors de la résolution\")\n",
    "end"
   ]
  },
  {
   "cell_type": "markdown",
   "id": "826028a7",
   "metadata": {},
   "source": []
  },
  {
   "cell_type": "code",
   "execution_count": 41,
   "id": "ee2e746c",
   "metadata": {},
   "outputs": [
    {
     "ename": "LoadError",
     "evalue": "Cannot evaluate `>=` between a variable and a number.\n\nThere are two common mistakes that lead to this.\n\n * You tried to write a constraint that depends on the value of a variable\n\n   For example:\n   ```julia\n   model = Model()\n   @variable(model, x[1:2])\n   if x[1] >= 1\n       @constraint(model, x[2] == 0)\n   end\n   ```\n\n   You cannot write a model like this. You must formulate your problem as a\n   single optimization problem. Unfortunately, the way to do this is\n   problem-specific and depends on your choice of solver. You may be able to\n   use indicator constraints, or some other mixed-integer linear\n   reformulation. If stuck, post your problem on the community forum:\n   https://discourse.julialang.org/c/domain/opt/13\n\n * You wrote a function that expected the value of a variable, but it was\n   passed the variable instead\n\n   For example:\n   ```julia\n   foo(x) = x >= 1 ? 0 : 1 - x\n   model = Model()\n   @variable(model, x)\n   @objective(model, foo(x))\n   ```\n\n   To fix this, create a nonlinear model with a user-defined function:\n   ```julia\n   foo(x) = x >= 1 ? 0 : 1 - x\n   model = Model()\n   register(model, :foo, 1, foo; autodiff = true)\n   @variable(model, x)\n   @NLobjective(model, foo(x))\n   ```\n",
     "output_type": "error",
     "traceback": [
      "Cannot evaluate `>=` between a variable and a number.\n\nThere are two common mistakes that lead to this.\n\n * You tried to write a constraint that depends on the value of a variable\n\n   For example:\n   ```julia\n   model = Model()\n   @variable(model, x[1:2])\n   if x[1] >= 1\n       @constraint(model, x[2] == 0)\n   end\n   ```\n\n   You cannot write a model like this. You must formulate your problem as a\n   single optimization problem. Unfortunately, the way to do this is\n   problem-specific and depends on your choice of solver. You may be able to\n   use indicator constraints, or some other mixed-integer linear\n   reformulation. If stuck, post your problem on the community forum:\n   https://discourse.julialang.org/c/domain/opt/13\n\n * You wrote a function that expected the value of a variable, but it was\n   passed the variable instead\n\n   For example:\n   ```julia\n   foo(x) = x >= 1 ? 0 : 1 - x\n   model = Model()\n   @variable(model, x)\n   @objective(model, foo(x))\n   ```\n\n   To fix this, create a nonlinear model with a user-defined function:\n   ```julia\n   foo(x) = x >= 1 ? 0 : 1 - x\n   model = Model()\n   register(model, :foo, 1, foo; autodiff = true)\n   @variable(model, x)\n   @NLobjective(model, foo(x))\n   ```\n",
      "",
      "Stacktrace:",
      " [1] error(s::String)",
      "   @ Base ./error.jl:35",
      " [2] >=(#unused#::VariableRef, #unused#::Int64)",
      "   @ JuMP ~/.julia/packages/JuMP/gVq7V/src/variables.jl:1534",
      " [3] macro expansion",
      "   @ ~/.julia/packages/JuMP/gVq7V/src/macros.jl:138 [inlined]",
      " [4] top-level scope",
      "   @ In[41]:4",
      " [5] eval",
      "   @ ./boot.jl:368 [inlined]",
      " [6] include_string(mapexpr::typeof(REPL.softscope), mod::Module, code::String, filename::String)",
      "   @ Base ./loading.jl:1428"
     ]
    }
   ],
   "source": [
    "#Exercise 2: Fabrique de fibre optique\n",
    "m2 = Model(GLPK.Optimizer)\n",
    "\n",
    "@variable(m2, F >= 0)\n",
    "@variable(m2, C >= 0)\n",
    "@variable(m2, M >= 0)\n",
    "\n",
    "@objective(m2, Max, 35F+24C+39M)\n",
    "\n",
    "@constraint(m2, 10F+15C+15M<=1000)\n",
    "@constraint(m2, 20F+12M<=400)\n",
    "@constraint(m2, 34C+18M<=350)\n",
    "@constraint(m2, 3F+4C+6M<=35*7)\n",
    "\n",
    "print(m2)\n",
    "\n",
    "optimize!(m2)\n",
    "\n",
    "status = termination_status(m2)\n",
    "\n",
    "if status == INFEASIBLE\n",
    "    println(\"Le problème n'est pas réalisable\")\n",
    "elseif status == UNBOUNDED\n",
    "    println(\"Le problème est non borné\")\n",
    "elseif status == OPTIMAL\n",
    "    println(\"Optimum = \", JuMP.objective_value(m))\n",
    "    println(\"Solution optimale :\")\n",
    "    println(\"\\t F = \", JuMP.value(F))\n",
    "    println(\"\\t C = \", JuMP.value(C))\n",
    "    println(\"\\t M = \", JuMP.value(M))\n",
    "else\n",
    "    println(\"Problème lors de la résolution\")\n",
    "end"
   ]
  },
  {
   "cell_type": "code",
   "execution_count": null,
   "id": "a4ac2b36",
   "metadata": {},
   "outputs": [],
   "source": []
  }
 ],
 "metadata": {
  "kernelspec": {
   "display_name": "Julia 1.8.2",
   "language": "julia",
   "name": "julia-1.8"
  },
  "language_info": {
   "file_extension": ".jl",
   "mimetype": "application/julia",
   "name": "julia",
   "version": "1.8.2"
  }
 },
 "nbformat": 4,
 "nbformat_minor": 5
}
