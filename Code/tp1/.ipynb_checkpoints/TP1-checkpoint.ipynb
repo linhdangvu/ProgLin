{
 "cells": [
  {
   "cell_type": "markdown",
   "metadata": {
    "collapsed": true,
    "deletable": false,
    "editable": false,
    "run_control": {
     "frozen": true
    }
   },
   "source": [
    "# TP1 : introduction à JuMP"
   ]
  },
  {
   "cell_type": "markdown",
   "metadata": {
    "collapsed": true,
    "deletable": false,
    "editable": false,
    "run_control": {
     "frozen": true
    }
   },
   "source": [
    "[JuMP](https://github.com/JuliaOpt/JuMP.jl) est un package Julia permettant la modélisation de programmes mathématiques, notamment des problèmes d'optimisation linéaire. C'est également une interface pour les principaux solveurs d'optimisation tels que CBC, CLP, Glpk, Cplex, Gurobi, etc.\n",
    "\n",
    "Ce TP a pour objectif de se familiariser avec ce package.\n",
    "\n",
    "Voici un exemple de problème d'optimisation linéaire modélisé avec le package JuMP et résolu avec le solveur GLPK. Répondre aux questions suivantes :\n",
    "\n",
    "1. Éxécuter le code pour déterminer la solution optimale.\n",
    "2. Quelle est la solution optimale si l'objectif est maintenant minimiser 18x - 3y ?\n",
    "3. Ajouter la contrainte $2x + y \\ge 4$. Cela change-t-il l'optimum ?\n",
    "4. Modifier le membre de droite de la nouvelle contrainte par 9. Que se passe-t-il ?"
   ]
  },
  {
   "cell_type": "code",
   "execution_count": 2,
   "metadata": {},
   "outputs": [],
   "source": [
    "# Librairies à importer pour utiliser JuMP avec le solver GLPK\n",
    "using JuMP\n",
    "using GLPK\n",
    "\n",
    "# Définition de constantes pour le statut de résolution du problème\n",
    "const OPTIMAL = JuMP.MathOptInterface.OPTIMAL\n",
    "const INFEASIBLE = JuMP.MathOptInterface.INFEASIBLE\n",
    "const UNBOUNDED = JuMP.MathOptInterface.DUAL_INFEASIBLE;"
   ]
  },
  {
   "cell_type": "code",
   "execution_count": 3,
   "metadata": {},
   "outputs": [
    {
     "data": {
      "text/latex": [
       "$$ \\begin{aligned}\n",
       "\\max\\quad & 4 x + 5 y\\\\\n",
       "\\text{Subject to} \\quad & x + 5 y \\leq 3.5\\\\\n",
       " & x \\geq 0.0\\\\\n",
       " & y \\geq 0.0\\\\\n",
       " & y \\leq 30.0\\\\\n",
       "\\end{aligned} $$"
      ]
     },
     "metadata": {},
     "output_type": "display_data"
    },
    {
     "name": "stdout",
     "output_type": "stream",
     "text": [
      "Optimum = 14.0\n",
      "Solution optimale :\n",
      "\t x = 3.5\n",
      "\t y = 0.0\n"
     ]
    }
   ],
   "source": [
    "# Création d'un modèle. Ce modèle fera l'interface avec le solveur GLPK\n",
    "m = Model(GLPK.Optimizer)\n",
    "\n",
    "#Création d'une variable x dans le modèle m. x est une variable continue entre 0 et 2.\n",
    "@variable(m, 0 <= x)\n",
    "\n",
    "#Création d'une deuxième variable continue y entre 0 et 30\n",
    "@variable(m, 0 <= y <= 30 )\n",
    "\n",
    "#Création de la fonction objective du modèle\n",
    "#=\n",
    "ATTENTION : 2 écritures possibles : 5x + 3y ou 5 * x + 3 * y.\n",
    "            Par contre, 5 x + 3 y produit une erreur\n",
    "=#\n",
    "@objective(m, Max, 4x + 5y)\n",
    "\n",
    "#Ajout d'une contrainte dans le modèle\n",
    "@constraint(m, x + 5y <= 3.5 ) # == # >=\n",
    "\n",
    "\n",
    "#Affichage du modèle\n",
    "print(m)\n",
    "\n",
    "#Résolution du problème d'optimisation linéaire m par le solveur GLPK\n",
    "optimize!(m)\n",
    "\n",
    "status = termination_status(m)\n",
    "\n",
    "\n",
    "if status == INFEASIBLE\n",
    "    println(\"Le problème n'est pas réalisable\")\n",
    "elseif status == UNBOUNDED\n",
    "    println(\"Le problème est non borné\")\n",
    "elseif status == OPTIMAL\n",
    "    println(\"Optimum = \", JuMP.objective_value(m))\n",
    "    println(\"Solution optimale :\")\n",
    "    println(\"\\t x = \", JuMP.value(x))\n",
    "    println(\"\\t y = \", JuMP.value(y))\n",
    "else\n",
    "    println(\"Problème lors de la résolution\")\n",
    "end"
   ]
  },
  {
   "cell_type": "markdown",
   "metadata": {
    "deletable": false,
    "editable": false,
    "run_control": {
     "frozen": true
    }
   },
   "source": [
    "## Exercice 1 : Résolution d'un PLNE\n",
    "\n",
    "Résoudre le PLNE suivant :\n",
    "\n",
    "$\\min 78x + 25y - 54z$\n",
    "\n",
    "$27x - 12y + 4z \\geq 140$\n",
    "\n",
    "$20y + 47z = 120$\n",
    "\n",
    "$x \\in \\{0,1\\}$\n",
    "\n",
    "$y \\text{ entier}$\n",
    "\n",
    "$z \\geq 0$\n",
    "\n",
    "**Remarque :** On peut définir des variables binaires ou entières en indiquant lors de la création de la variable son type `@variable(m, nom_variable, type)` où le type peut être `Int` ou `Bin`.\n",
    "\n",
    "Par exemple : `@variable(m, x, Bin)` ajoute une variable `x` binaire au modèle `m`.\n"
   ]
  },
  {
   "cell_type": "code",
   "execution_count": null,
   "metadata": {
    "tags": [
     "answer"
    ]
   },
   "outputs": [],
   "source": [
    "############################## \n",
    "#   Saisir votre code ici.   #\n",
    "##############################\n"
   ]
  },
  {
   "cell_type": "markdown",
   "metadata": {
    "deletable": false,
    "editable": false,
    "run_control": {
     "frozen": true
    }
   },
   "source": [
    "\n",
    "## Exercice 1 : Fabrique de fibre optique\n",
    "\n",
    "\n",
    "Une entreprise de fabrication de fibre optique doit décider de son plan de production pour la semaine suivante. Elle peut fabriquer trois types de fibre : \n",
    " * Fibre Fluorée vendue à 35 &euro; le mètre\n",
    " * Fibre Chlorée vendue à 24 &euro; le mètre\n",
    " * Fibre Mélangée vendue à 39 &euro; le mètre\n",
    "\n",
    "La fabrication de chaque type de fibre nécessite différentes ressources résumées dans le tableau ci-dessous.\n",
    "\n",
    "| Ressources    | Fibre Fluorée  | Fibre Chlorée    | Fibre Mélangée    |\n",
    "| ------------- | -------------: | ---------: | ---------: |\n",
    "| Silice        | 10 kg/m        | 15 kg/m    | 15 kg/m    |\n",
    "| Fluor         | 20 kg/m        | 0  kg/m    | 12 kg/m    |\n",
    "| Chlore        | 0 kg/m         | 34 kg/m    | 18 kg/m    |\n",
    "| Main-d'oeuvre | 3 h/m          | 4 h/m      | 6 h/m      |\n",
    "\n",
    "L'entreprise possède une tonne de silice, 400kg de Fluor, 350kg de Chlore. Par ailleurs, elle dispose d'une équipe de 7 ouvriers pouvant fabriquer les différents types de fibres optiques, chacun des ouvriers travaillant 35h par semaine. Elle souhaite maximiser son profit généré par la vente de ses différentes fibres (on suppose que l'entreprise peut vendre tout ce qu'elle produit. De plus, elle peut produire n'importe quelle quantité (même quelques microns de fibre optique).\n",
    "\n",
    "Modéliser le problème avec JuMP puis déterminer le plan de production optimal."
   ]
  },
  {
   "cell_type": "code",
   "execution_count": null,
   "metadata": {
    "tags": [
     "answer",
     "keepOutput"
    ]
   },
   "outputs": [],
   "source": [
    "############################## \n",
    "#   Saisir votre code ici.   #\n",
    "##############################\n"
   ]
  }
 ],
 "metadata": {
  "@webio": {
   "lastCommId": "08eb8e1e25fe40338eb3075477c06f51",
   "lastKernelId": "2d91d8b3-adb7-4f04-8a16-478b15abdf05"
  },
  "kernelspec": {
   "display_name": "Julia 1.5.3",
   "language": "julia",
   "name": "julia-1.5"
  },
  "language_info": {
   "file_extension": ".jl",
   "mimetype": "application/julia",
   "name": "julia",
   "version": "1.5.3"
  },
  "toc": {
   "base_numbering": 1,
   "nav_menu": {},
   "number_sections": true,
   "sideBar": true,
   "skip_h1_title": true,
   "title_cell": "Table des matières",
   "title_sidebar": "Table des matières",
   "toc_cell": false,
   "toc_position": {},
   "toc_section_display": true,
   "toc_window_display": false
  },
  "varInspector": {
   "cols": {
    "lenName": 16,
    "lenType": 16,
    "lenVar": 40
   },
   "kernels_config": {
    "python": {
     "delete_cmd_postfix": "",
     "delete_cmd_prefix": "del ",
     "library": "var_list.py",
     "varRefreshCmd": "print(var_dic_list())"
    },
    "r": {
     "delete_cmd_postfix": ") ",
     "delete_cmd_prefix": "rm(",
     "library": "var_list.r",
     "varRefreshCmd": "cat(var_dic_list()) "
    }
   },
   "types_to_exclude": [
    "module",
    "function",
    "builtin_function_or_method",
    "instance",
    "_Feature"
   ],
   "window_display": false
  }
 },
 "nbformat": 4,
 "nbformat_minor": 2
}
