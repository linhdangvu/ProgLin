{
 "cells": [
  {
   "cell_type": "markdown",
   "metadata": {
    "deletable": false,
    "editable": false,
    "run_control": {
     "frozen": true
    }
   },
   "source": [
    "# TP1 : introduction à JuMP"
   ]
  },
  {
   "cell_type": "markdown",
   "metadata": {
    "deletable": false,
    "editable": false,
    "run_control": {
     "frozen": true
    }
   },
   "source": [
    "[JuMP](https://github.com/JuliaOpt/JuMP.jl) est un package Julia permettant la modélisation de programmes mathématiques, notamment des problèmes d'optimisation linéaire. C'est également une interface pour les principaux solveurs d'optimisation tels que CBC, CLP, Glpk, Cplex, Gurobi, etc.\n",
    "\n",
    "Ce TP a pour objectif de se familiariser avec ce package.\n",
    "\n",
    "Voici un exemple de problème d'optimisation linéaire modélisé avec le package JuMP et résolu avec le solveur GLPK. Répondre aux questions suivantes :\n",
    "\n",
    "1. Éxécuter le code pour déterminer la solution optimale.\n",
    "2. Quelle est la solution optimale si l'objectif est maintenant minimiser 18x - 3y ?\n",
    "3. Ajouter la contrainte $2x + y \\ge 4$. Cela change-t-il l'optimum ?\n",
    "4. Modifier le membre de droite de la nouvelle contrainte par 9. Que se passe-t-il ?"
   ]
  },
  {
   "cell_type": "code",
   "execution_count": 1,
   "metadata": {},
   "outputs": [],
   "source": [
    "# Librairies à importer pour utiliser JuMP avec le solver GLPK\n",
    "using JuMP\n",
    "using GLPK\n",
    "\n",
    "# Définition de constantes pour le statut de résolution du problème\n",
    "const OPTIMAL = JuMP.MathOptInterface.OPTIMAL\n",
    "const INFEASIBLE = JuMP.MathOptInterface.INFEASIBLE\n",
    "const UNBOUNDED = JuMP.MathOptInterface.DUAL_INFEASIBLE;"
   ]
  },
  {
   "cell_type": "code",
   "execution_count": 2,
   "metadata": {},
   "outputs": [
    {
     "data": {
      "text/latex": [
       "$$ \\begin{aligned}\n",
       "\\max\\quad & 4 x + 5 y\\\\\n",
       "\\text{Subject to} \\quad & x + 5 y \\leq 3.5\\\\\n",
       " & x \\geq 0.0\\\\\n",
       " & y \\geq 0.0\\\\\n",
       " & y \\leq 30.0\\\\\n",
       "\\end{aligned} $$"
      ]
     },
     "metadata": {},
     "output_type": "display_data"
    },
    {
     "name": "stdout",
     "output_type": "stream",
     "text": [
      "Optimum = 14.0\n",
      "Solution optimale :\n",
      "\t x = 3.5\n",
      "\t y = 0.0\n"
     ]
    }
   ],
   "source": [
    "# Création d'un modèle. Ce modèle fera l'interface avec le solveur GLPK\n",
    "m = Model(GLPK.Optimizer)\n",
    "\n",
    "#Création d'une variable x dans le modèle m. x est une variable continue positive ou nulle.\n",
    "@variable(m, 0 <= x)\n",
    "\n",
    "#Création d'une deuxième variable continue y entre 0 et 30\n",
    "@variable(m, 0 <= y <= 30 )\n",
    "\n",
    "#Création de la fonction objective du modèle\n",
    "#=\n",
    "ATTENTION : 2 écritures possibles : 5x + 3y ou 5 * x + 3 * y.\n",
    "            Par contre, 5 x + 3 y produit une erreur\n",
    "=#\n",
    "@objective(m, Max, 4x + 5y)\n",
    "\n",
    "#Ajout d'une contrainte dans le modèle\n",
    "@constraint(m, x + 5y <= 3.5 ) # == # >=\n",
    "\n",
    "\n",
    "#Affichage du modèle\n",
    "print(m)\n",
    "\n",
    "#Résolution du problème d'optimisation linéaire m par le solveur GLPK\n",
    "optimize!(m)\n",
    "\n",
    "status = termination_status(m)\n",
    "\n",
    "\n",
    "if status == INFEASIBLE\n",
    "    println(\"Le problème n'est pas réalisable\")\n",
    "elseif status == UNBOUNDED\n",
    "    println(\"Le problème est non borné\")\n",
    "elseif status == OPTIMAL\n",
    "    println(\"Optimum = \", JuMP.objective_value(m))\n",
    "    println(\"Solution optimale :\")\n",
    "    println(\"\\t x = \", JuMP.value(x))\n",
    "    println(\"\\t y = \", JuMP.value(y))\n",
    "else\n",
    "    println(\"Problème lors de la résolution\")\n",
    "end"
   ]
  },
  {
   "cell_type": "markdown",
   "metadata": {
    "deletable": false,
    "editable": false,
    "run_control": {
     "frozen": true
    }
   },
   "source": [
    "## Exercice 1 : Résolution d'un PLNE\n",
    "\n",
    "Résoudre le PLNE suivant :\n",
    "\n",
    "$\\min 78x + 25y - 54z$\n",
    "\n",
    "$27x - 12y + 4z \\geq 140$\n",
    "\n",
    "$20y + 47z = 120$\n",
    "\n",
    "$x \\in \\{0,1\\}$\n",
    "\n",
    "$y \\text{ entier}$\n",
    "\n",
    "$z \\geq 0$\n",
    "\n",
    "**Remarque :** On peut définir des variables binaires ou entières en indiquant lors de la création de la variable son type `@variable(m, nom_variable, type)` où le type peut être `Int` ou `Bin`.\n",
    "\n",
    "Par exemple : `@variable(m, x, Bin)` ajoute une variable `x` binaire au modèle `m`.\n"
   ]
  },
  {
   "cell_type": "code",
   "execution_count": 2,
   "metadata": {
    "tags": [
     "answer"
    ]
   },
   "outputs": [
    {
     "data": {
      "text/latex": [
       "$$ \\begin{aligned}\n",
       "\\min\\quad & 78 x + 25 y - 54 z\\\\\n",
       "\\text{Subject to} \\quad & 20 y + 47 z = 120.0\\\\\n",
       " & 27 x - 12 y + 4 z \\geq 140.0\\\\\n",
       " & x \\geq 0.0\\\\\n",
       " & z \\geq 0.0\\\\\n",
       " & y \\in \\mathbb{Z}\\\\\n",
       " & x \\in \\{0, 1\\}\\\\\n",
       "\\end{aligned} $$"
      ]
     },
     "metadata": {},
     "output_type": "display_data"
    },
    {
     "name": "stdout",
     "output_type": "stream",
     "text": [
      "Le problème est non borné\n"
     ]
    }
   ],
   "source": [
    "############################## \n",
    "#   Saisir votre code ici.   #\n",
    "##############################\n",
    "# Création d'un modèle. Ce modèle fera l'interface avec le solveur GLPK\n",
    "m = Model(GLPK.Optimizer)\n",
    "\n",
    "#Création d'une variable x dans le modèle m. x est une variable continue positive ou nulle.\n",
    "@variable(m, 0 <= x,Bin)\n",
    "\n",
    "#Création d'une deuxième variable continue y entre 0 et 30\n",
    "@variable(m, y, Int)\n",
    "@variable(m, 0 <= z)\n",
    "\n",
    "#Création de la fonction objective du modèle\n",
    "#=\n",
    "ATTENTION : 2 écritures possibles : 5x + 3y ou 5 * x + 3 * y.\n",
    "            Par contre, 5 x + 3 y produit une erreur\n",
    "=#\n",
    "@objective(m, Min, 78x + 25y - 54z)\n",
    "\n",
    "#Ajout d'une contrainte dans le modèle\n",
    "@constraint(m, 27x - 12y +4z >= 140 ) # == # >=\n",
    "@constraint(m, 20y + 47z == 120 ) # == # >=\n",
    "\n",
    "\n",
    "#Affichage du modèle\n",
    "print(m)\n",
    "\n",
    "#Résolution du problème d'optimisation linéaire m par le solveur GLPK\n",
    "optimize!(m)\n",
    "\n",
    "status = termination_status(m)\n",
    "\n",
    "\n",
    "if status == INFEASIBLE\n",
    "    println(\"Le problème n'est pas réalisable\")\n",
    "elseif status == UNBOUNDED\n",
    "    println(\"Le problème est non borné\")\n",
    "elseif status == OPTIMAL\n",
    "    println(\"Optimum = \", JuMP.objective_value(m))\n",
    "    println(\"Solution optimale :\")\n",
    "    println(\"\\t x = \", JuMP.value(x))\n",
    "    println(\"\\t y = \", JuMP.value(y))\n",
    "    println(\"\\t z = \", JuMP.value(z))\n",
    "else\n",
    "    println(\"Problème lors de la résolution\")\n",
    "end"
   ]
  },
  {
   "cell_type": "markdown",
   "metadata": {
    "deletable": false,
    "editable": false,
    "run_control": {
     "frozen": true
    },
    "tags": []
   },
   "source": [
    "\n",
    "## Exercice 1 : Fabrique de fibre optique\n",
    "\n",
    "\n",
    "Une entreprise de fabrication de fibre optique doit décider de son plan de production pour la semaine suivante. Elle peut fabriquer trois types de fibre : \n",
    " * Fibre Fluorée vendue à 35 &euro; le mètre\n",
    " * Fibre Chlorée vendue à 24 &euro; le mètre\n",
    " * Fibre Mélangée vendue à 39 &euro; le mètre\n",
    "\n",
    "La fabrication de chaque type de fibre nécessite différentes ressources résumées dans le tableau ci-dessous.\n",
    "\n",
    "| Ressources    | Fibre Fluorée  | Fibre Chlorée    | Fibre Mélangée    |\n",
    "| ------------- | -------------: | ---------: | ---------: |\n",
    "| Silice        | 10 kg/m        | 15 kg/m    | 15 kg/m    |\n",
    "| Fluor         | 20 kg/m        | 0  kg/m    | 12 kg/m    |\n",
    "| Chlore        | 0 kg/m         | 34 kg/m    | 18 kg/m    |\n",
    "| Main-d'oeuvre | 3 h/m          | 4 h/m      | 6 h/m      |\n",
    "\n",
    "L'entreprise possède une tonne de silice, 400kg de Fluor, 350kg de Chlore. Par ailleurs, elle dispose d'une équipe de 7 ouvriers pouvant fabriquer les différents types de fibres optiques, chacun des ouvriers travaillant 35h par semaine. Elle souhaite maximiser son profit généré par la vente de ses différentes fibres (on suppose que l'entreprise peut vendre tout ce qu'elle produit. De plus, elle peut produire n'importe quelle quantité (même quelques microns de fibre optique).\n",
    "\n",
    "Modéliser le problème avec JuMP puis déterminer le plan de production optimal."
   ]
  },
  {
   "cell_type": "code",
   "execution_count": 3,
   "metadata": {
    "tags": [
     "answer",
     "keepOutput"
    ]
   },
   "outputs": [
    {
     "name": "stdout",
     "output_type": "stream",
     "text": [
      "Profit = 1050.0€\n",
      "Solution optimale :\n",
      "\t Quantité de fibre fluorée = 8.333333333333334m\n",
      "\t Quantité de fibre chlorée = 0.0m\n",
      "\t Quantité de fibre mélangée = 19.444444444444443m\n"
     ]
    }
   ],
   "source": [
    "##################\n",
    "#   Correction   #\n",
    "##################\n",
    "\n",
    "\n",
    "# Création d'un modèle. Ce modèle fera l'interface avec le solveur GLPK\n",
    "m = Model(GLPK.Optimizer)\n",
    "\n",
    "@variable(m,  F >= 0) # Quantité de fibre fluorée\n",
    "@variable(m,  C >= 0) # Quantité de fibre chlorée\n",
    "@variable(m,  M >= 0) # Quantité de fibre mélangée\n",
    "\n",
    "\n",
    "#Création de la fonction objective du modèle\n",
    "@objective(m, Max, 35F + 24C  + 39M)\n",
    "\n",
    "#Ajout des contraintes\n",
    "@constraint(m, 10F + 15C + 15M <= 1000 ) # Ressource silice\n",
    "@constraint(m, 20F + 12M <= 400 ) # Ressource fluor\n",
    "@constraint(m, 34C + 18M <= 350 ) # Ressource chlore\n",
    "@constraint(m,  3F +  4C + 6M <= 7 * 35) # Main d'oeuvre\n",
    "\n",
    "# Résolution du problème d'optimisation linéaire m par le solveur GLPK\n",
    "optimize!(m)\n",
    "\n",
    "# On vérifie que le problème est résolu à l'optimum\n",
    "status = termination_status(m)\n",
    "@assert status == OPTIMAL\n",
    "\n",
    "println(\"Profit = \", JuMP.objective_value(m), \"€\")\n",
    "println(\"Solution optimale :\")\n",
    "\n",
    "println(\"\\t Quantité de fibre fluorée = \", JuMP.value(F), \"m\")\n",
    "println(\"\\t Quantité de fibre chlorée = \", JuMP.value(C), \"m\")\n",
    "println(\"\\t Quantité de fibre mélangée = \", JuMP.value(M), \"m\")\n"
   ]
  },
  {
   "cell_type": "code",
   "execution_count": null,
   "metadata": {},
   "outputs": [],
   "source": []
  }
 ],
 "metadata": {
  "@webio": {
   "lastCommId": "08eb8e1e25fe40338eb3075477c06f51",
   "lastKernelId": "2d91d8b3-adb7-4f04-8a16-478b15abdf05"
  },
  "kernelspec": {
   "display_name": "Julia 1.8.2",
   "language": "julia",
   "name": "julia-1.8"
  },
  "language_info": {
   "file_extension": ".jl",
   "mimetype": "application/julia",
   "name": "julia",
   "version": "1.8.2"
  },
  "toc": {
   "base_numbering": 1,
   "nav_menu": {},
   "number_sections": true,
   "sideBar": true,
   "skip_h1_title": true,
   "title_cell": "Table des matières",
   "title_sidebar": "Table des matières",
   "toc_cell": false,
   "toc_position": {},
   "toc_section_display": true,
   "toc_window_display": false
  },
  "varInspector": {
   "cols": {
    "lenName": 16,
    "lenType": 16,
    "lenVar": 40
   },
   "kernels_config": {
    "python": {
     "delete_cmd_postfix": "",
     "delete_cmd_prefix": "del ",
     "library": "var_list.py",
     "varRefreshCmd": "print(var_dic_list())"
    },
    "r": {
     "delete_cmd_postfix": ") ",
     "delete_cmd_prefix": "rm(",
     "library": "var_list.r",
     "varRefreshCmd": "cat(var_dic_list()) "
    }
   },
   "types_to_exclude": [
    "module",
    "function",
    "builtin_function_or_method",
    "instance",
    "_Feature"
   ],
   "window_display": false
  }
 },
 "nbformat": 4,
 "nbformat_minor": 4
}
