{
 "cells": [
  {
   "cell_type": "markdown",
   "metadata": {
    "deletable": false,
    "editable": false,
    "run_control": {
     "frozen": true
    }
   },
   "source": [
    "# TP 5 : Plannification d'examen - Correction"
   ]
  },
  {
   "cell_type": "code",
   "execution_count": 1,
   "metadata": {},
   "outputs": [],
   "source": [
    "# Librairies à importer pour utiliser JuMP avec le solver GLPK\n",
    "using JuMP\n",
    "using GLPK\n",
    "\n",
    "# Définition de constantes pour le statut de résolution du problème\n",
    "const OPTIMAL = JuMP.MathOptInterface.OPTIMAL\n",
    "const INFEASIBLE = JuMP.MathOptInterface.INFEASIBLE\n",
    "const UNBOUNDED = JuMP.MathOptInterface.DUAL_INFEASIBLE;"
   ]
  },
  {
   "cell_type": "markdown",
   "metadata": {
    "deletable": false,
    "editable": false,
    "run_control": {
     "frozen": true
    }
   },
   "source": [
    "Dans une école d'ingénieurs de la région parisienne, chaque semestre, chaque étudiant de deuxième année \n",
    "choisit un ensemble de huit modules parmi onze proposés, en fonction de l'option qu'il désire suivre en troisième année. Ces options sont au nombre de deux : *Aide à la décision et optimisation* et *Communication homme-machine et documents électroniques*.\n",
    "\n",
    "Pour le semestre courant, certains modules sont obligatoires pour les étudiants désirant \n",
    "s'orienter vers ces deux options. Il s'agit des modules de Probabilités (P), Algorithme et complexité III (AC), Ingénierie des connaissances (IC) et Systèmes distribués et parallélisme (SDP). Certains autres sont optionnels : Bases de données II (BD), Réseaux (R), Optimisation combinatoire II (OC), Interface graphique (IG), C++ (C++), Paradigme logique (PL) et Génie logiciel III (GL)."
   ]
  },
  {
   "cell_type": "markdown",
   "metadata": {
    "deletable": false,
    "editable": false,
    "run_control": {
     "frozen": true
    }
   },
   "source": [
    "&nbsp;       |BD      |R       |C++     |GL      |IC      |IG      |AC      |PL      |OC      |P       |SDP\n",
    "-------------|------- |------- |------- |------- |------- |------- |------- |------- |------- |------- |----\n",
    "BD           | &nbsp; | x      | &nbsp; | &nbsp; | x      | &nbsp; | x      | &nbsp; | &nbsp; | x      | x\n",
    "R            | x      | &nbsp; | &nbsp; | &nbsp; | x      | &nbsp; | x      | &nbsp; | &nbsp; | x      | x\n",
    "C++          | &nbsp; | &nbsp; | &nbsp; | x      | x      | x      | x      | &nbsp; | x      | x      | x\n",
    "GL           | &nbsp; | &nbsp; | x      | &nbsp; | x      | x      | x      | &nbsp; | &nbsp; | x      | x\n",
    "IC           | x      | x      | x      | x      | &nbsp; | x      | x      | x      | x      | x      | x\n",
    "IG           | &nbsp; | &nbsp; | x      | x      | x      | &nbsp; | x      | &nbsp; | x      | x      | x\n",
    "AC           | x      | x      | x      | x      | x      | x      | &nbsp; | x      | x      | x      | x\n",
    "PL           | &nbsp; | &nbsp; | &nbsp; | &nbsp; | x      | &nbsp; | x      | &nbsp; | &nbsp; | x      | x\n",
    "OC           | &nbsp; | &nbsp; | x      | &nbsp; | x      | x      | x      | &nbsp; | &nbsp; | x      | x\n",
    "P            | x      | x      | x      | x      | x      | x      | x      | x      | x      | &nbsp; | x\n",
    "SDP          | x      | x      | x      | x      | x      | x      | x      | x      | x      | x      |&nbsp;"
   ]
  },
  {
   "cell_type": "markdown",
   "metadata": {
    "deletable": false,
    "editable": false,
    "run_control": {
     "frozen": true
    }
   },
   "source": [
    "M. Eudété doit planifier les examens prévus à la fin du semestre. Chaque examen dure deux heures.\n",
    "Deux journées sont réservées pour planifier ces examens suivant les plages horaires suivantes: \n",
    "8h-10h, 10h15-12h15, 14h-16h et 16h15-18h15. Pour chaque examen, elle connaît l'ensemble des examens incompatibles, \n",
    "qui ne peuvent avoir lieu en même temps car devant être effectués par des étudiants communs. \n",
    "Ces incompatibilités sont résumées dans le tableau, une croix indiquant une incompatibilité."
   ]
  },
  {
   "cell_type": "markdown",
   "metadata": {
    "deletable": false,
    "editable": false,
    "run_control": {
     "frozen": true
    }
   },
   "source": [
    "On souhaite que la distribution des examens sur les deux journées soit la plus équilibrée possible;\n",
    "néanmoins, le nombre d'examens planifiés pour la deuxième journée ne doit pas être supérieur au nombre d'examens planifiés pour la première journée.\n"
   ]
  },
  {
   "cell_type": "markdown",
   "metadata": {
    "deletable": false,
    "editable": false,
    "run_control": {
     "frozen": true
    }
   },
   "source": [
    "## Question 1\n",
    "\n",
    "Aidez M. Eudété à construire un emploi du temps de telle sorte qu'aucun étudiant n'ait plus d'un examen en même temps,\n",
    "en proposant (sur papier) une formulation PLNE pour résoudre le problème."
   ]
  },
  {
   "cell_type": "markdown",
   "metadata": {
    "deletable": false,
    "editable": false,
    "run_control": {
     "frozen": true
    }
   },
   "source": [
    "*Suggestion :* utiliser une famille de variables $x$ pour represénter les décisions qui concernent l'affectation des examens aux créneaux horaires,\n",
    "et une variable $z$ pour modéliser à la fois la fonction objectif et les contraintes sur le nombre et la distribution des examens sur les deux journées."
   ]
  },
  {
   "cell_type": "markdown",
   "metadata": {
    "deletable": false,
    "editable": false,
    "run_control": {
     "frozen": true
    },
    "tags": [
     "answer"
    ]
   },
   "source": [
    "**CORRECTION :**\n",
    "\n",
    "\n",
    "Notons:\n",
    "* $n$, le nombre d'examens, et $E = \\{0, \\dots, n-1\\}$, l'ensemble des examens\n",
    "* $C_E = \\{(e_1,e_2):e_1<e_2\\}$ l'ensemble des couples $(e_1,e_2)$ d'examens, et $A_E \\subset C_E$, l'ensemble des couples d'examens incompatibles.\n",
    "  Étant donné un couple d'examens incompatibles $c\\in A_E$, on indiquera les examens qui le composent comme $e_1(c)$ et $e_2(c)$\n",
    "* $H_1 = \\{0,\\dots, 3\\}$, l'ensemble des créneaux horaires du premier jour, $H_2 = \\{4, \\dots, 7\\}$, l'ensemble des créneaux horaires du deuxième jour, et\n",
    "\t$H = H_1\\cup H_2$, l'ensemble de tous les créneaux.\n",
    "\n",
    "\n",
    "On utilise les variables décisionnelles suivantes:\n",
    "* $x_{e,h}\\in\\{0,1\\},\\quad e\\in E,h\\in H,\\quad x_{e,h} = 1 \\Leftrightarrow$ le créneau choisi pour l'examen $e$ est $h$\n",
    "* $z\\in \\{0, \\dots, n\\}$ le nombre d'examens supplémentaires le premier jour par rapport au deuxième jour.\n"
   ]
  },
  {
   "cell_type": "markdown",
   "metadata": {
    "deletable": false,
    "editable": false,
    "run_control": {
     "frozen": true
    },
    "tags": [
     "answer"
    ]
   },
   "source": [
    "**CORRECTION :**\n",
    "\n",
    "\n",
    "$\\min z$\t\n",
    "\n",
    "$z=\\displaystyle\\sum_{\\substack{e\\in E\\\\h\\in H_1}}x_{e,h} -\\displaystyle\\sum_{\\substack{e\\in E\\\\h\\in H_2}}x_{e,h}$\n",
    "\n",
    "$\\displaystyle\\sum_{h\\in H}x_{e,h} = 1 \\quad\\quad \\forall e\\in E$\n",
    "\n",
    "$x_{e_1(c),h} + x_{e_2(c),h}\\leq 1 \\quad\\quad \\forall c\\in A_E,\\forall h\\in H$\n",
    "\n",
    "$x_{e,h} \\in \\{0,1\\} \\quad\\quad \\forall e \\in E, \\forall h\\in H$\n",
    "\n",
    "$z \\geq 0$\n"
   ]
  },
  {
   "cell_type": "markdown",
   "metadata": {
    "deletable": false,
    "editable": false,
    "run_control": {
     "frozen": true
    }
   },
   "source": [
    "## Question 2\n",
    "\n",
    "M. Eudété ne sait pas comment résoudre le PLNE. Aidez-le en le résolvant pour lui avec Julia et JuMP.\n",
    "\n",
    "*Remarque :* comme M. Eudété a besoin de le faire tous les ans, proposez une formulation générique pour qu'il n'ait qu'à changer les données l'année prochaine.\n"
   ]
  },
  {
   "cell_type": "code",
   "execution_count": 2,
   "metadata": {},
   "outputs": [
    {
     "name": "stdout",
     "output_type": "stream",
     "text": [
      "1234false"
     ]
    }
   ],
   "source": [
    "matières = [\"BD\", \"R\", \"C++\", \"GL\", \"IC\", \"IG\", \"AC\", \"PL\", \"OC\", \"P\", \"SDP\"]\n",
    "\n",
    "incompatibilités = [\n",
    "0 1 0 0 1 0 1 0 0 1 1 ;\n",
    "1 0 0 0 1 0 1 0 0 1 1 ;\n",
    "0 0 0 1 1 1 1 0 1 1 1 ;\n",
    "0 0 1 0 1 1 1 0 0 1 1 ;\n",
    "1 1 1 1 0 1 1 1 1 1 1 ;\n",
    "0 0 1 1 1 0 1 0 1 1 1 ;\n",
    "1 1 1 1 1 1 0 1 1 1 1 ;\n",
    "0 0 0 0 1 0 1 0 0 1 1 ;\n",
    "0 0 1 0 1 1 1 0 0 1 1 ;\n",
    "1 1 1 1 1 1 1 1 1 0 1 ;\n",
    "1 1 1 1 1 1 1 1 1 1 0 \n",
    "]\n",
    "\n",
    "horaires = [\"8h-10h\", \"10h15-12h15\", \"14h-16h\", \"16h15-18h15\"]\n",
    "\n",
    "H = 1:length(horaires) # 4\n",
    "for horaires ∈ H\n",
    "    print(horaires) # 1234\n",
    "end\n",
    "print(horaires ∈ H)\n",
    "\n"
   ]
  },
  {
   "cell_type": "markdown",
   "metadata": {
    "deletable": false,
    "editable": false,
    "run_control": {
     "frozen": true
    }
   },
   "source": [
    "## Question 3\n",
    "\n",
    "M. Eudété ne sait pas lire les solutions données sous forme d'une solution 0/1. Affichez la solution de manière lisible en indiquant pour chaque matière le créneau horaire où se déroule l'examen. Affichez également le nombre d'examens en plus le premier jour."
   ]
  },
  {
   "cell_type": "code",
   "execution_count": 3,
   "metadata": {
    "tags": [
     "answer"
    ]
   },
   "outputs": [
    {
     "data": {
      "text/plain": [
       "optimise_edt (generic function with 1 method)"
      ]
     },
     "execution_count": 3,
     "metadata": {},
     "output_type": "execute_result"
    }
   ],
   "source": [
    "##################\n",
    "#   Correction   #\n",
    "##################\n",
    "\n",
    "\n",
    "function optimise_edt(m, i, h)\n",
    "\n",
    "    n = length(m)\n",
    "    M = 1:n # nombre de matiere\n",
    "    \n",
    "    t = length(h)\n",
    "    H = 1:t # nombre de horaire\n",
    "    \n",
    "    # On a deux jours\n",
    "    J = 1:2 \n",
    "    \n",
    "    edt = Model(GLPK.Optimizer)\n",
    "\n",
    "    #variables y[p] dans 0,1 : est-ce que j'utilise le rouleau p pour p=1,...P\n",
    "    @variable(edt, z >= 0) # day 1 - day 2 >= 0\n",
    "\n",
    "    #varbiale x[m, j, h] = 1 si le contrôle de la matière m a lieu le jour j à l'heure h, 0 sinon\n",
    "    @variable(edt, x[M, J, H], Bin) \n",
    "\n",
    "    #La fonction objectif : On cherche à minimiser le nombre de rouleaux decoupes.\n",
    "    @objective(edt, Min, z)\n",
    "\n",
    "    \n",
    "    @constraint(edt, sum(x[m, 1, h] for m ∈ M, h ∈ H) - sum(x[m, 2, h] for m ∈ M, h ∈ H) == z)\n",
    "\n",
    "    for m ∈ M\n",
    "        @constraint(edt, sum(x[m,j,h] for j ∈ J, h ∈ H) == 1)\n",
    "    end\n",
    "    \n",
    "    \n",
    "    for m ∈ M, m2 ∈ M\n",
    "        if m != m2 && i[m, m2] == 1 # 2 matiere different with incomtabibite = 1\n",
    "            for h ∈ H, j ∈ J\n",
    "                @constraint(edt, x[m,j,h] + x[m2, j, h] <= 1)\n",
    "            end\n",
    "        end\n",
    "    end\n",
    "    \n",
    "    #print(edt)\n",
    "    JuMP.optimize!(edt)\n",
    "\n",
    "    for m in M\n",
    "        for j ∈ J, h ∈ H\n",
    "            if JuMP.value(x[m,j,h]) != 0\n",
    "                println(matières[m], \" aura lieu le jour $j à l'horaire \", horaires[h])\n",
    "            end\n",
    "        end\n",
    "    end\n",
    "end\n",
    "\n"
   ]
  },
  {
   "cell_type": "code",
   "execution_count": 4,
   "metadata": {},
   "outputs": [],
   "source": [
    "optimise_edt(matières, incompatibilités, horaires)"
   ]
  }
 ],
 "metadata": {
  "@webio": {
   "lastCommId": "872f124809d144c892c62891af6ee370",
   "lastKernelId": "9c92383c-bbc1-4271-adaa-0b3f36285183"
  },
  "kernelspec": {
   "display_name": "Julia 1.8.2",
   "language": "julia",
   "name": "julia-1.8"
  },
  "language_info": {
   "file_extension": ".jl",
   "mimetype": "application/julia",
   "name": "julia",
   "version": "1.8.2"
  },
  "toc": {
   "base_numbering": 1,
   "nav_menu": {},
   "number_sections": true,
   "sideBar": true,
   "skip_h1_title": true,
   "title_cell": "Table des matières",
   "title_sidebar": "Table des matières",
   "toc_cell": false,
   "toc_position": {},
   "toc_section_display": true,
   "toc_window_display": false
  },
  "varInspector": {
   "cols": {
    "lenName": 16,
    "lenType": 16,
    "lenVar": 40
   },
   "kernels_config": {
    "python": {
     "delete_cmd_postfix": "",
     "delete_cmd_prefix": "del ",
     "library": "var_list.py",
     "varRefreshCmd": "print(var_dic_list())"
    },
    "r": {
     "delete_cmd_postfix": ") ",
     "delete_cmd_prefix": "rm(",
     "library": "var_list.r",
     "varRefreshCmd": "cat(var_dic_list()) "
    }
   },
   "types_to_exclude": [
    "module",
    "function",
    "builtin_function_or_method",
    "instance",
    "_Feature"
   ],
   "window_display": false
  }
 },
 "nbformat": 4,
 "nbformat_minor": 4
}
